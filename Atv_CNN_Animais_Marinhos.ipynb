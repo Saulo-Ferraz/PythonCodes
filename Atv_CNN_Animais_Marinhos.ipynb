{
  "cells": [
    {
      "cell_type": "markdown",
      "metadata": {
        "id": "view-in-github",
        "colab_type": "text"
      },
      "source": [
        "<a href=\"https://colab.research.google.com/github/Saulo-Ferraz/PythonCodes/blob/main/Atv_CNN_Animais_Marinhos.ipynb\" target=\"_parent\"><img src=\"https://colab.research.google.com/assets/colab-badge.svg\" alt=\"Open In Colab\"/></a>"
      ]
    },
    {
      "cell_type": "code",
      "execution_count": null,
      "metadata": {
        "id": "U9sbiXFL7I_M"
      },
      "outputs": [],
      "source": [
        "!pip install tensorflow==2.15.0"
      ]
    },
    {
      "cell_type": "code",
      "execution_count": null,
      "metadata": {
        "colab": {
          "base_uri": "https://localhost:8080/"
        },
        "id": "IgIVIs8P7Tc3",
        "outputId": "5c204a6e-7bb8-4c48-ace5-a252e6d9f764"
      },
      "outputs": [
        {
          "name": "stdout",
          "output_type": "stream",
          "text": [
            "2.15.0\n"
          ]
        }
      ],
      "source": [
        "import tensorflow as tf\n",
        "print(tf.__version__)"
      ]
    },
    {
      "cell_type": "code",
      "execution_count": null,
      "metadata": {
        "id": "3ZUFoUvf0lid"
      },
      "outputs": [],
      "source": [
        "import os\n",
        "import gdown\n",
        "import zipfile\n",
        "import matplotlib.pyplot as plt\n",
        "from keras.preprocessing.image import ImageDataGenerator\n",
        "from keras.applications import NASNetLarge, EfficientNetV2L\n",
        "from keras import layers, models, optimizers\n",
        "from keras.utils import to_categorical\n",
        "from sklearn.metrics import classification_report, confusion_matrix"
      ]
    },
    {
      "cell_type": "code",
      "execution_count": null,
      "metadata": {
        "colab": {
          "base_uri": "https://localhost:8080/",
          "height": 105
        },
        "id": "dacyf4Lf0tom",
        "outputId": "8fef2f09-bd2a-4cdb-8f53-de837388c49a"
      },
      "outputs": [
        {
          "name": "stderr",
          "output_type": "stream",
          "text": [
            "Downloading...\n",
            "From: https://drive.google.com/uc?id=1syXLiu8GlZoyvSstb9tz_rBU3yBOp8Do\n",
            "To: /content/dataset.zip\n",
            "100%|██████████| 19.5M/19.5M [00:00<00:00, 77.2MB/s]\n"
          ]
        },
        {
          "data": {
            "application/vnd.google.colaboratory.intrinsic+json": {
              "type": "string"
            },
            "text/plain": [
              "'/content/dataset.zip'"
            ]
          },
          "execution_count": 3,
          "metadata": {},
          "output_type": "execute_result"
        }
      ],
      "source": [
        "# Link de compartilhamento do Google Drive\n",
        "zip_file_url = 'https://drive.google.com/uc?id=1syXLiu8GlZoyvSstb9tz_rBU3yBOp8Do'\n",
        "\n",
        "# Caminho local para o arquivo zip\n",
        "zip_file_path = '/content/dataset.zip'\n",
        "\n",
        "# Função de Download\n",
        "gdown.download(zip_file_url, zip_file_path, quiet=False)"
      ]
    },
    {
      "cell_type": "code",
      "execution_count": null,
      "metadata": {
        "colab": {
          "base_uri": "https://localhost:8080/"
        },
        "id": "fTtyzlqs0xJS",
        "outputId": "19384a44-7173-48f2-b4b1-21506f5c6746"
      },
      "outputs": [
        {
          "name": "stdout",
          "output_type": "stream",
          "text": [
            "Arquivos extraídos: ['fishes', 'turtles', 'jellyfish', 'sharks']\n"
          ]
        }
      ],
      "source": [
        "# Caminho para o diretório onde você deseja extrair as pastas\n",
        "extracted_dir = '/content/dataset'\n",
        "\n",
        "# Crie o diretório se não existir\n",
        "os.makedirs(extracted_dir, exist_ok=True)\n",
        "\n",
        "# Extrair o conteúdo do arquivo zip para o diretório de extração\n",
        "with zipfile.ZipFile(zip_file_path, 'r') as zip_ref:\n",
        "    zip_ref.extractall(extracted_dir)\n",
        "\n",
        "# Lista os arquivos no diretório de extração\n",
        "extracted_files = os.listdir(extracted_dir)\n",
        "print(\"Arquivos extraídos:\", extracted_files)\n",
        "\n",
        "# Diretórios de treinamento e validação\n",
        "train_dir = os.path.join(extracted_dir)\n",
        "validation_dir = os.path.join(extracted_dir)"
      ]
    },
    {
      "cell_type": "code",
      "execution_count": null,
      "metadata": {
        "colab": {
          "base_uri": "https://localhost:8080/"
        },
        "id": "mDrx_wUB01xY",
        "outputId": "87b6ac24-4095-451a-9bf3-63b2e49ddca6"
      },
      "outputs": [
        {
          "name": "stdout",
          "output_type": "stream",
          "text": [
            "Found 2189 images belonging to 4 classes.\n",
            "Found 2189 images belonging to 4 classes.\n"
          ]
        }
      ],
      "source": [
        "# Configurações\n",
        "batch_size = 200\n",
        "img_size = (224, 224)  # Tamanho de imagem adequado para os modelos de transfer learning\n",
        "num_classes = len(os.listdir(train_dir)) # Número de classes\n",
        "\n",
        "# Data augmentation para os dados de treinamento\n",
        "train_datagen = ImageDataGenerator(\n",
        "    rescale=1.0/255.0,\n",
        "    rotation_range=40,\n",
        "    width_shift_range=0.2,\n",
        "    height_shift_range=0.2,\n",
        "    shear_range=0.2,\n",
        "    zoom_range=0.2,\n",
        "    horizontal_flip=True,\n",
        "    fill_mode='nearest'\n",
        ")\n",
        "\n",
        "# Data augmentation para os dados de validação\n",
        "validation_datagen = ImageDataGenerator(rescale=1.0/255.0)\n",
        "\n",
        "# Criação dos geradores de dados de treinamento e validação\n",
        "train_generator = train_datagen.flow_from_directory(\n",
        "    train_dir,\n",
        "    target_size=img_size,\n",
        "    batch_size=batch_size,\n",
        "    class_mode='categorical',\n",
        "    shuffle=True\n",
        ")\n",
        "\n",
        "validation_generator = validation_datagen.flow_from_directory(\n",
        "    validation_dir,\n",
        "    target_size=img_size,\n",
        "    batch_size=batch_size,\n",
        "    class_mode='categorical',\n",
        "    shuffle=False\n",
        ")"
      ]
    },
    {
      "cell_type": "code",
      "execution_count": null,
      "metadata": {
        "id": "1GgFOCqC06_L"
      },
      "outputs": [],
      "source": [
        "# Modelo 1: CNN personalizada\n",
        "model1 = models.Sequential()\n",
        "model1.add(layers.Conv2D(16, (3, 3), activation='relu', input_shape=(img_size[0], img_size[1], 3)))\n",
        "model1.add(layers.MaxPooling2D((2, 2)))\n",
        "model1.add(layers.Conv2D(32, (3, 3), activation='relu'))\n",
        "model1.add(layers.MaxPooling2D((2, 2)))\n",
        "model1.add(layers.Flatten())\n",
        "model1.add(layers.Dense(128, activation = 'relu'))\n",
        "model1.add(layers.Dense(num_classes, activation='softmax'))\n",
        "\n",
        "model1.compile(loss='categorical_crossentropy', optimizer='adam', metrics=['accuracy'])"
      ]
    },
    {
      "cell_type": "code",
      "execution_count": null,
      "metadata": {
        "colab": {
          "base_uri": "https://localhost:8080/"
        },
        "id": "cET-4Vp94HR-",
        "outputId": "36ed6626-6434-4359-c000-b6aab9a32416"
      },
      "outputs": [
        {
          "name": "stdout",
          "output_type": "stream",
          "text": [
            "Model: \"sequential\"\n",
            "_________________________________________________________________\n",
            " Layer (type)                Output Shape              Param #   \n",
            "=================================================================\n",
            " conv2d (Conv2D)             (None, 222, 222, 16)      448       \n",
            "                                                                 \n",
            " max_pooling2d (MaxPooling2  (None, 111, 111, 16)      0         \n",
            " D)                                                              \n",
            "                                                                 \n",
            " conv2d_1 (Conv2D)           (None, 109, 109, 32)      4640      \n",
            "                                                                 \n",
            " max_pooling2d_1 (MaxPoolin  (None, 54, 54, 32)        0         \n",
            " g2D)                                                            \n",
            "                                                                 \n",
            " flatten (Flatten)           (None, 93312)             0         \n",
            "                                                                 \n",
            " dense (Dense)               (None, 128)               11944064  \n",
            "                                                                 \n",
            " dense_1 (Dense)             (None, 4)                 516       \n",
            "                                                                 \n",
            "=================================================================\n",
            "Total params: 11949668 (45.58 MB)\n",
            "Trainable params: 11949668 (45.58 MB)\n",
            "Non-trainable params: 0 (0.00 Byte)\n",
            "_________________________________________________________________\n"
          ]
        }
      ],
      "source": [
        "model1.summary()"
      ]
    },
    {
      "cell_type": "code",
      "execution_count": null,
      "metadata": {
        "id": "v-6GMxTu080t"
      },
      "outputs": [],
      "source": [
        "# Modelo 2: CNN personalizada com hiperparâmetros diferentes\n",
        "model2 = models.Sequential()\n",
        "model2.add(layers.Conv2D(32, (3, 3), activation='relu', input_shape=(img_size[0], img_size[1], 3)))\n",
        "model2.add(layers.MaxPooling2D((2, 2)))\n",
        "model2.add(layers.Conv2D(64, (3, 3), activation='relu'))\n",
        "model2.add(layers.MaxPooling2D((2, 2)))\n",
        "model2.add(layers.Flatten())\n",
        "model2.add(layers.Dense(128, activation = 'relu'))\n",
        "model2.add(layers.Dense(num_classes, activation='softmax'))\n",
        "\n",
        "model2.compile(loss='categorical_crossentropy', optimizer='adam', metrics=['accuracy'])"
      ]
    },
    {
      "cell_type": "code",
      "execution_count": null,
      "metadata": {
        "colab": {
          "base_uri": "https://localhost:8080/"
        },
        "id": "TP07_Mtl4c_8",
        "outputId": "92eb30e9-cb9e-49e0-87cd-bf36b67c2099"
      },
      "outputs": [
        {
          "name": "stdout",
          "output_type": "stream",
          "text": [
            "Model: \"sequential_1\"\n",
            "_________________________________________________________________\n",
            " Layer (type)                Output Shape              Param #   \n",
            "=================================================================\n",
            " conv2d_2 (Conv2D)           (None, 222, 222, 32)      896       \n",
            "                                                                 \n",
            " max_pooling2d_2 (MaxPoolin  (None, 111, 111, 32)      0         \n",
            " g2D)                                                            \n",
            "                                                                 \n",
            " conv2d_3 (Conv2D)           (None, 109, 109, 64)      18496     \n",
            "                                                                 \n",
            " max_pooling2d_3 (MaxPoolin  (None, 54, 54, 64)        0         \n",
            " g2D)                                                            \n",
            "                                                                 \n",
            " flatten_1 (Flatten)         (None, 186624)            0         \n",
            "                                                                 \n",
            " dense_2 (Dense)             (None, 128)               23888000  \n",
            "                                                                 \n",
            " dense_3 (Dense)             (None, 4)                 516       \n",
            "                                                                 \n",
            "=================================================================\n",
            "Total params: 23907908 (91.20 MB)\n",
            "Trainable params: 23907908 (91.20 MB)\n",
            "Non-trainable params: 0 (0.00 Byte)\n",
            "_________________________________________________________________\n"
          ]
        }
      ],
      "source": [
        "model2.summary()"
      ]
    },
    {
      "cell_type": "code",
      "execution_count": null,
      "metadata": {
        "id": "aDNv6nDSwqE7"
      },
      "outputs": [],
      "source": [
        "base_model1 = NASNetLarge(weights='imagenet', include_top=False, input_shape=(img_size[0], img_size[1], 3))\n",
        "model_tl1 = models.Sequential()\n",
        "model_tl1.add(base_model1)\n",
        "model_tl1.add(layers.Conv2D(32, (3, 3), activation='relu'))\n",
        "model_tl1.add(layers.Flatten())\n",
        "model_tl1.add(layers.Dense(128, activation='relu'))\n",
        "model_tl1.add(layers.Dense(num_classes, activation='softmax'))\n",
        "\n",
        "for layer in base_model1.layers:\n",
        "    layer.trainable = False\n",
        "\n",
        "model_tl1.compile(loss='categorical_crossentropy', optimizer=optimizers.Adam(learning_rate=1e-4), metrics=['accuracy'])"
      ]
    },
    {
      "cell_type": "code",
      "execution_count": null,
      "metadata": {
        "colab": {
          "base_uri": "https://localhost:8080/"
        },
        "id": "mmZdlkv9Fttl",
        "outputId": "801087d9-cabd-4ba2-cd7e-20d4191cf547"
      },
      "outputs": [
        {
          "name": "stdout",
          "output_type": "stream",
          "text": [
            "Model: \"sequential_2\"\n",
            "_________________________________________________________________\n",
            " Layer (type)                Output Shape              Param #   \n",
            "=================================================================\n",
            " NASNet (Functional)         (None, 7, 7, 4032)        84916818  \n",
            "                                                                 \n",
            " conv2d_4 (Conv2D)           (None, 5, 5, 32)          1161248   \n",
            "                                                                 \n",
            " flatten_2 (Flatten)         (None, 800)               0         \n",
            "                                                                 \n",
            " dense_4 (Dense)             (None, 128)               102528    \n",
            "                                                                 \n",
            " dense_5 (Dense)             (None, 4)                 516       \n",
            "                                                                 \n",
            "=================================================================\n",
            "Total params: 86181110 (328.75 MB)\n",
            "Trainable params: 1264292 (4.82 MB)\n",
            "Non-trainable params: 84916818 (323.93 MB)\n",
            "_________________________________________________________________\n"
          ]
        }
      ],
      "source": [
        "model_tl1.summary()"
      ]
    },
    {
      "cell_type": "code",
      "execution_count": null,
      "metadata": {
        "colab": {
          "base_uri": "https://localhost:8080/"
        },
        "id": "SL7cs_wS1Br1",
        "outputId": "8a3148fb-88bf-4e23-c9f3-847c92bdd09c"
      },
      "outputs": [
        {
          "name": "stdout",
          "output_type": "stream",
          "text": [
            "Downloading data from https://storage.googleapis.com/tensorflow/keras-applications/efficientnet_v2/efficientnetv2-l_notop.h5\n",
            "473176280/473176280 [==============================] - 6s 0us/step\n"
          ]
        }
      ],
      "source": [
        "base_model2 = EfficientNetV2L(weights='imagenet', include_top=False, input_shape=(img_size[0], img_size[1], 3))\n",
        "model_tl2 = models.Sequential()\n",
        "model_tl2.add(base_model2)\n",
        "model_tl2.add(layers.Conv2D(32, (3, 3), activation='relu'))\n",
        "model_tl2.add(layers.Flatten())\n",
        "model_tl2.add(layers.Dense(128, activation='relu'))\n",
        "model_tl2.add(layers.Dense(num_classes, activation='softmax'))\n",
        "\n",
        "for layer in base_model2.layers:\n",
        "    layer.trainable = False\n",
        "\n",
        "model_tl2.compile(loss='categorical_crossentropy', optimizer=optimizers.Adam(learning_rate=1e-4), metrics=['accuracy'])"
      ]
    },
    {
      "cell_type": "code",
      "execution_count": null,
      "metadata": {
        "colab": {
          "base_uri": "https://localhost:8080/"
        },
        "id": "7QFi1OfZT3K4",
        "outputId": "f7a26407-b849-4f52-f632-c88181d90600"
      },
      "outputs": [
        {
          "name": "stdout",
          "output_type": "stream",
          "text": [
            "Model: \"sequential_3\"\n",
            "_________________________________________________________________\n",
            " Layer (type)                Output Shape              Param #   \n",
            "=================================================================\n",
            " efficientnetv2-l (Function  (None, 7, 7, 1280)        117746848 \n",
            " al)                                                             \n",
            "                                                                 \n",
            " conv2d_5 (Conv2D)           (None, 5, 5, 32)          368672    \n",
            "                                                                 \n",
            " flatten_3 (Flatten)         (None, 800)               0         \n",
            "                                                                 \n",
            " dense_6 (Dense)             (None, 128)               102528    \n",
            "                                                                 \n",
            " dense_7 (Dense)             (None, 4)                 516       \n",
            "                                                                 \n",
            "=================================================================\n",
            "Total params: 118218564 (450.97 MB)\n",
            "Trainable params: 471716 (1.80 MB)\n",
            "Non-trainable params: 117746848 (449.17 MB)\n",
            "_________________________________________________________________\n"
          ]
        }
      ],
      "source": [
        "model_tl2.summary()"
      ]
    },
    {
      "cell_type": "code",
      "execution_count": null,
      "metadata": {
        "colab": {
          "base_uri": "https://localhost:8080/"
        },
        "id": "wZBQT2vN-v_S",
        "outputId": "0d0ad1b8-8bca-49e1-f7cb-427076b9d804"
      },
      "outputs": [
        {
          "name": "stdout",
          "output_type": "stream",
          "text": [
            "11/11 [==============================] - 132s 12s/step - loss: 9.4061 - accuracy: 0.2759 - val_loss: 1.9081 - val_accuracy: 0.2773\n"
          ]
        },
        {
          "data": {
            "text/plain": [
              "<keras.src.callbacks.History at 0x782acf422b30>"
            ]
          },
          "execution_count": 18,
          "metadata": {},
          "output_type": "execute_result"
        }
      ],
      "source": [
        "model1.fit(train_generator, epochs=1, validation_data=validation_generator)"
      ]
    },
    {
      "cell_type": "code",
      "execution_count": null,
      "metadata": {
        "colab": {
          "base_uri": "https://localhost:8080/"
        },
        "id": "U_qS4jFrCB4p",
        "outputId": "29af609b-2f77-4352-c0fb-4420f1a6c9db"
      },
      "outputs": [
        {
          "name": "stdout",
          "output_type": "stream",
          "text": [
            "11/11 [==============================] - 244s 22s/step - loss: 10.6996 - accuracy: 0.2768 - val_loss: 1.3223 - val_accuracy: 0.3586\n"
          ]
        },
        {
          "data": {
            "text/plain": [
              "<keras.src.callbacks.History at 0x782ace385e40>"
            ]
          },
          "execution_count": 19,
          "metadata": {},
          "output_type": "execute_result"
        }
      ],
      "source": [
        "model2.fit(train_generator, epochs=1, validation_data=validation_generator)"
      ]
    },
    {
      "cell_type": "code",
      "execution_count": null,
      "metadata": {
        "colab": {
          "base_uri": "https://localhost:8080/"
        },
        "id": "YR9quFzJRgRS",
        "outputId": "76493aab-a8ca-42bc-efad-5f8ee2f21967"
      },
      "outputs": [
        {
          "output_type": "stream",
          "name": "stdout",
          "text": [
            "11/11 [==============================] - 2022s 191s/step - loss: 0.3563 - accuracy: 0.8780 - val_loss: 0.2231 - val_accuracy: 0.9269\n"
          ]
        },
        {
          "output_type": "execute_result",
          "data": {
            "text/plain": [
              "<keras.src.callbacks.History at 0x782acc237be0>"
            ]
          },
          "metadata": {},
          "execution_count": 21
        }
      ],
      "source": [
        "model_tl1.fit(train_generator, epochs=1, validation_data=validation_generator)"
      ]
    },
    {
      "cell_type": "code",
      "execution_count": null,
      "metadata": {
        "colab": {
          "background_save": true,
          "base_uri": "https://localhost:8080/"
        },
        "id": "t8epU78HRgq_",
        "outputId": "b28d1f2f-8a20-4f3d-9da0-9d221dd9f7da"
      },
      "outputs": [
        {
          "name": "stdout",
          "output_type": "stream",
          "text": [
            "11/11 [==============================] - 2295s 215s/step - loss: 1.4282 - accuracy: 0.2430 - val_loss: 1.3803 - val_accuracy: 0.3280\n"
          ]
        },
        {
          "data": {
            "text/plain": [
              "<keras.src.callbacks.History at 0x782b22d360b0>"
            ]
          },
          "execution_count": 20,
          "metadata": {},
          "output_type": "execute_result"
        }
      ],
      "source": [
        "model_tl2.fit(train_generator, epochs=1, validation_data=validation_generator)"
      ]
    },
    {
      "cell_type": "markdown",
      "source": [
        "> > #  Análise dos Resultados\n",
        "\n",
        "\n",
        "\n",
        "---\n",
        "\n",
        "\n",
        "\n",
        "---\n",
        "\n",
        "\n",
        "\n",
        "\n",
        "\n",
        "1.   O Modelo NASNetLarge obteve a maior acurácia porém foi o que levou mais tempo para terminar.\n",
        "2.   O 2° Modelo de CNN obteve um resultado pouco maior que o 1° mesmo com uma maior quantidade de hiperparamêtros.\n",
        "3.  O tempo que os modelos de TL ( Transfer Learning ) levaram foi substâncialmente maior que os de CNN.\n",
        "4.  A quantidade de paramêtros não treináveis nos modelos de TL é absurdamente grande.\n",
        "5.  Se fez necessária a instalação de uma versão mais atualizada do Tensorflow pois na 2.14.0 os modelos não obtiveram sucesso no treino.\n",
        "\n"
      ],
      "metadata": {
        "id": "XfH8YSZ19J8T"
      }
    },
    {
      "cell_type": "markdown",
      "source": [
        "Dupla: Saulo Raphael e Athos Pugliese"
      ],
      "metadata": {
        "id": "8NhiEXmR_Ald"
      }
    }
  ],
  "metadata": {
    "accelerator": "GPU",
    "colab": {
      "provenance": [],
      "authorship_tag": "ABX9TyMZ8c7VzUDUUlBMdPUcNkEZ",
      "include_colab_link": true
    },
    "kernelspec": {
      "display_name": "Python 3",
      "name": "python3"
    },
    "language_info": {
      "name": "python"
    }
  },
  "nbformat": 4,
  "nbformat_minor": 0
}