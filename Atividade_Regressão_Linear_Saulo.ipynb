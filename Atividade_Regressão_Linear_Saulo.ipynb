{
  "cells": [
    {
      "cell_type": "markdown",
      "metadata": {
        "id": "view-in-github",
        "colab_type": "text"
      },
      "source": [
        "<a href=\"https://colab.research.google.com/github/Saulo-Ferraz/PythonCodes/blob/main/Atividade_Regress%C3%A3o_Linear_Saulo.ipynb\" target=\"_parent\"><img src=\"https://colab.research.google.com/assets/colab-badge.svg\" alt=\"Open In Colab\"/></a>"
      ]
    },
    {
      "cell_type": "markdown",
      "id": "4d17c66f",
      "metadata": {
        "id": "4d17c66f"
      },
      "source": [
        " <h align=centre><font size = 8, style=\"color:rgb(200,0,0)\">Atividade: Regressão Linear</font></h>"
      ]
    },
    {
      "cell_type": "markdown",
      "id": "c03e81b5-5852-40a6-9732-4eacec0126d1",
      "metadata": {
        "id": "c03e81b5-5852-40a6-9732-4eacec0126d1"
      },
      "source": [
        "**Importanto a biblioteca a ser utilizada**"
      ]
    },
    {
      "cell_type": "code",
      "execution_count": 13,
      "id": "e753ee18",
      "metadata": {
        "id": "e753ee18"
      },
      "outputs": [],
      "source": [
        "import pandas as pd\n",
        "import numpy as np\n",
        "import matplotlib.pyplot as plt\n",
        "from sklearn.model_selection import train_test_split\n",
        "from sklearn.linear_model import LinearRegression"
      ]
    },
    {
      "cell_type": "markdown",
      "id": "eb7863ac-b70b-4d44-9ac8-918d27c210e3",
      "metadata": {
        "tags": [],
        "toc-hr-collapsed": true,
        "id": "eb7863ac-b70b-4d44-9ac8-918d27c210e3"
      },
      "source": [
        "# QUESTÃO 01"
      ]
    },
    {
      "cell_type": "markdown",
      "id": "f9b24360-47e8-4a8e-9aa1-09a1ac99e40c",
      "metadata": {
        "id": "f9b24360-47e8-4a8e-9aa1-09a1ac99e40c"
      },
      "source": [
        "Na\t engenharia de\t recursos\t hídricos\t a\t estimativa dos\t tamanhos\t dos reservatórios\t depende\t de\testimativas\tacuradas\t do\tescoamento\t da\tágua\t do\t rio\t que\testá sendo\tconfinado.\tEm\talguns\trios,\tregistros\thistóricos\tde\tlonga\tduração\tde\t tais\tdados\tde\tescoamento\t são\t difíceis\t de\t obter.\t Já\t os\t dados\t meteorológicos\t sobre precipitação\t estão\tdisponíveis\t para\t muitos\t anos\t do\t passado.\t Portanto,\t é\t útil\t determinar\t a\t relação\t entre\tescoamento\te\tprecipitação.\t<br>\n",
        "Essa\t relação\t pode\t ser\t usada\t para\t fazer\t uma\t estimativa\t do\t escoamento\t nos\tanos\tnos\tquais\tapenas\tmedidas\tde\tprecipitação\tforam\tfeitos.\tOs\tseguintes\tdados\testão\tdisponíveis\tpara\tum\trio\tque\tdeve\tser\testancado:\n",
        "\n",
        "Precipitação [cm/ano] e Escoamento [m3/s]\n"
      ]
    },
    {
      "cell_type": "markdown",
      "id": "fa4c74a8-67c6-4c15-9ff6-d3b3bbabf7a5",
      "metadata": {
        "id": "fa4c74a8-67c6-4c15-9ff6-d3b3bbabf7a5"
      },
      "source": [
        "a) Calcula através do método de regressão linear a função que melhor ajusta aos dados <br>\n",
        "b) Determine o coeficiente de correlação dos dados. <br>\n",
        "c) Utilize a função da reta para prever o escoamento se a precipitação for de (cm)\n",
        "- 55.5\n",
        "- 66.4\n",
        "- 22.1\n",
        "- 1\n",
        "<br>\n",
        "d) Faça\tuma\testimativa\tde\tescoamento\tpara\t140 cm/ano"
      ]
    },
    {
      "cell_type": "markdown",
      "id": "f8e69b01-e9ef-4aaf-bfbc-6f5d418e7c99",
      "metadata": {
        "id": "f8e69b01-e9ef-4aaf-bfbc-6f5d418e7c99"
      },
      "source": [
        "## Base de Dados"
      ]
    },
    {
      "cell_type": "code",
      "execution_count": 4,
      "id": "8d6cc682-79b7-4638-9e09-1e449fd05678",
      "metadata": {
        "tags": [],
        "id": "8d6cc682-79b7-4638-9e09-1e449fd05678"
      },
      "outputs": [],
      "source": [
        "v1 = [88.9, 108.5, 104.1, 139.7, 127]\n",
        "v2 = [14.6, 16.7, 15.3, 23.2, 19.5]\n",
        "dados = {'Precipitação': v1, 'Escoamento': v2}\n",
        "df = pd.DataFrame(dados)"
      ]
    },
    {
      "cell_type": "markdown",
      "id": "e267e360-8df4-4571-a64e-161b6104e415",
      "metadata": {
        "id": "e267e360-8df4-4571-a64e-161b6104e415"
      },
      "source": [
        "## Pré-Analise dos dados"
      ]
    },
    {
      "cell_type": "code",
      "execution_count": 28,
      "id": "321f9c74-0c1a-4e8e-9423-1169c8bb4593",
      "metadata": {
        "id": "321f9c74-0c1a-4e8e-9423-1169c8bb4593",
        "colab": {
          "base_uri": "https://localhost:8080/",
          "height": 206
        },
        "outputId": "3e5d206b-2cfc-4318-b349-89db1c391e52"
      },
      "outputs": [
        {
          "output_type": "execute_result",
          "data": {
            "text/plain": [
              "   Precipitação  Escoamento\n",
              "0          88.9        14.6\n",
              "1         108.5        16.7\n",
              "2         104.1        15.3\n",
              "3         139.7        23.2\n",
              "4         127.0        19.5"
            ],
            "text/html": [
              "\n",
              "  <div id=\"df-14a2e84f-2389-48f2-8052-ee4b229e5543\" class=\"colab-df-container\">\n",
              "    <div>\n",
              "<style scoped>\n",
              "    .dataframe tbody tr th:only-of-type {\n",
              "        vertical-align: middle;\n",
              "    }\n",
              "\n",
              "    .dataframe tbody tr th {\n",
              "        vertical-align: top;\n",
              "    }\n",
              "\n",
              "    .dataframe thead th {\n",
              "        text-align: right;\n",
              "    }\n",
              "</style>\n",
              "<table border=\"1\" class=\"dataframe\">\n",
              "  <thead>\n",
              "    <tr style=\"text-align: right;\">\n",
              "      <th></th>\n",
              "      <th>Precipitação</th>\n",
              "      <th>Escoamento</th>\n",
              "    </tr>\n",
              "  </thead>\n",
              "  <tbody>\n",
              "    <tr>\n",
              "      <th>0</th>\n",
              "      <td>88.9</td>\n",
              "      <td>14.6</td>\n",
              "    </tr>\n",
              "    <tr>\n",
              "      <th>1</th>\n",
              "      <td>108.5</td>\n",
              "      <td>16.7</td>\n",
              "    </tr>\n",
              "    <tr>\n",
              "      <th>2</th>\n",
              "      <td>104.1</td>\n",
              "      <td>15.3</td>\n",
              "    </tr>\n",
              "    <tr>\n",
              "      <th>3</th>\n",
              "      <td>139.7</td>\n",
              "      <td>23.2</td>\n",
              "    </tr>\n",
              "    <tr>\n",
              "      <th>4</th>\n",
              "      <td>127.0</td>\n",
              "      <td>19.5</td>\n",
              "    </tr>\n",
              "  </tbody>\n",
              "</table>\n",
              "</div>\n",
              "    <div class=\"colab-df-buttons\">\n",
              "\n",
              "  <div class=\"colab-df-container\">\n",
              "    <button class=\"colab-df-convert\" onclick=\"convertToInteractive('df-14a2e84f-2389-48f2-8052-ee4b229e5543')\"\n",
              "            title=\"Convert this dataframe to an interactive table.\"\n",
              "            style=\"display:none;\">\n",
              "\n",
              "  <svg xmlns=\"http://www.w3.org/2000/svg\" height=\"24px\" viewBox=\"0 -960 960 960\">\n",
              "    <path d=\"M120-120v-720h720v720H120Zm60-500h600v-160H180v160Zm220 220h160v-160H400v160Zm0 220h160v-160H400v160ZM180-400h160v-160H180v160Zm440 0h160v-160H620v160ZM180-180h160v-160H180v160Zm440 0h160v-160H620v160Z\"/>\n",
              "  </svg>\n",
              "    </button>\n",
              "\n",
              "  <style>\n",
              "    .colab-df-container {\n",
              "      display:flex;\n",
              "      gap: 12px;\n",
              "    }\n",
              "\n",
              "    .colab-df-convert {\n",
              "      background-color: #E8F0FE;\n",
              "      border: none;\n",
              "      border-radius: 50%;\n",
              "      cursor: pointer;\n",
              "      display: none;\n",
              "      fill: #1967D2;\n",
              "      height: 32px;\n",
              "      padding: 0 0 0 0;\n",
              "      width: 32px;\n",
              "    }\n",
              "\n",
              "    .colab-df-convert:hover {\n",
              "      background-color: #E2EBFA;\n",
              "      box-shadow: 0px 1px 2px rgba(60, 64, 67, 0.3), 0px 1px 3px 1px rgba(60, 64, 67, 0.15);\n",
              "      fill: #174EA6;\n",
              "    }\n",
              "\n",
              "    .colab-df-buttons div {\n",
              "      margin-bottom: 4px;\n",
              "    }\n",
              "\n",
              "    [theme=dark] .colab-df-convert {\n",
              "      background-color: #3B4455;\n",
              "      fill: #D2E3FC;\n",
              "    }\n",
              "\n",
              "    [theme=dark] .colab-df-convert:hover {\n",
              "      background-color: #434B5C;\n",
              "      box-shadow: 0px 1px 3px 1px rgba(0, 0, 0, 0.15);\n",
              "      filter: drop-shadow(0px 1px 2px rgba(0, 0, 0, 0.3));\n",
              "      fill: #FFFFFF;\n",
              "    }\n",
              "  </style>\n",
              "\n",
              "    <script>\n",
              "      const buttonEl =\n",
              "        document.querySelector('#df-14a2e84f-2389-48f2-8052-ee4b229e5543 button.colab-df-convert');\n",
              "      buttonEl.style.display =\n",
              "        google.colab.kernel.accessAllowed ? 'block' : 'none';\n",
              "\n",
              "      async function convertToInteractive(key) {\n",
              "        const element = document.querySelector('#df-14a2e84f-2389-48f2-8052-ee4b229e5543');\n",
              "        const dataTable =\n",
              "          await google.colab.kernel.invokeFunction('convertToInteractive',\n",
              "                                                    [key], {});\n",
              "        if (!dataTable) return;\n",
              "\n",
              "        const docLinkHtml = 'Like what you see? Visit the ' +\n",
              "          '<a target=\"_blank\" href=https://colab.research.google.com/notebooks/data_table.ipynb>data table notebook</a>'\n",
              "          + ' to learn more about interactive tables.';\n",
              "        element.innerHTML = '';\n",
              "        dataTable['output_type'] = 'display_data';\n",
              "        await google.colab.output.renderOutput(dataTable, element);\n",
              "        const docLink = document.createElement('div');\n",
              "        docLink.innerHTML = docLinkHtml;\n",
              "        element.appendChild(docLink);\n",
              "      }\n",
              "    </script>\n",
              "  </div>\n",
              "\n",
              "\n",
              "<div id=\"df-bc6aef79-b343-4299-ac80-ec407ed242e2\">\n",
              "  <button class=\"colab-df-quickchart\" onclick=\"quickchart('df-bc6aef79-b343-4299-ac80-ec407ed242e2')\"\n",
              "            title=\"Suggest charts\"\n",
              "            style=\"display:none;\">\n",
              "\n",
              "<svg xmlns=\"http://www.w3.org/2000/svg\" height=\"24px\"viewBox=\"0 0 24 24\"\n",
              "     width=\"24px\">\n",
              "    <g>\n",
              "        <path d=\"M19 3H5c-1.1 0-2 .9-2 2v14c0 1.1.9 2 2 2h14c1.1 0 2-.9 2-2V5c0-1.1-.9-2-2-2zM9 17H7v-7h2v7zm4 0h-2V7h2v10zm4 0h-2v-4h2v4z\"/>\n",
              "    </g>\n",
              "</svg>\n",
              "  </button>\n",
              "\n",
              "<style>\n",
              "  .colab-df-quickchart {\n",
              "      --bg-color: #E8F0FE;\n",
              "      --fill-color: #1967D2;\n",
              "      --hover-bg-color: #E2EBFA;\n",
              "      --hover-fill-color: #174EA6;\n",
              "      --disabled-fill-color: #AAA;\n",
              "      --disabled-bg-color: #DDD;\n",
              "  }\n",
              "\n",
              "  [theme=dark] .colab-df-quickchart {\n",
              "      --bg-color: #3B4455;\n",
              "      --fill-color: #D2E3FC;\n",
              "      --hover-bg-color: #434B5C;\n",
              "      --hover-fill-color: #FFFFFF;\n",
              "      --disabled-bg-color: #3B4455;\n",
              "      --disabled-fill-color: #666;\n",
              "  }\n",
              "\n",
              "  .colab-df-quickchart {\n",
              "    background-color: var(--bg-color);\n",
              "    border: none;\n",
              "    border-radius: 50%;\n",
              "    cursor: pointer;\n",
              "    display: none;\n",
              "    fill: var(--fill-color);\n",
              "    height: 32px;\n",
              "    padding: 0;\n",
              "    width: 32px;\n",
              "  }\n",
              "\n",
              "  .colab-df-quickchart:hover {\n",
              "    background-color: var(--hover-bg-color);\n",
              "    box-shadow: 0 1px 2px rgba(60, 64, 67, 0.3), 0 1px 3px 1px rgba(60, 64, 67, 0.15);\n",
              "    fill: var(--button-hover-fill-color);\n",
              "  }\n",
              "\n",
              "  .colab-df-quickchart-complete:disabled,\n",
              "  .colab-df-quickchart-complete:disabled:hover {\n",
              "    background-color: var(--disabled-bg-color);\n",
              "    fill: var(--disabled-fill-color);\n",
              "    box-shadow: none;\n",
              "  }\n",
              "\n",
              "  .colab-df-spinner {\n",
              "    border: 2px solid var(--fill-color);\n",
              "    border-color: transparent;\n",
              "    border-bottom-color: var(--fill-color);\n",
              "    animation:\n",
              "      spin 1s steps(1) infinite;\n",
              "  }\n",
              "\n",
              "  @keyframes spin {\n",
              "    0% {\n",
              "      border-color: transparent;\n",
              "      border-bottom-color: var(--fill-color);\n",
              "      border-left-color: var(--fill-color);\n",
              "    }\n",
              "    20% {\n",
              "      border-color: transparent;\n",
              "      border-left-color: var(--fill-color);\n",
              "      border-top-color: var(--fill-color);\n",
              "    }\n",
              "    30% {\n",
              "      border-color: transparent;\n",
              "      border-left-color: var(--fill-color);\n",
              "      border-top-color: var(--fill-color);\n",
              "      border-right-color: var(--fill-color);\n",
              "    }\n",
              "    40% {\n",
              "      border-color: transparent;\n",
              "      border-right-color: var(--fill-color);\n",
              "      border-top-color: var(--fill-color);\n",
              "    }\n",
              "    60% {\n",
              "      border-color: transparent;\n",
              "      border-right-color: var(--fill-color);\n",
              "    }\n",
              "    80% {\n",
              "      border-color: transparent;\n",
              "      border-right-color: var(--fill-color);\n",
              "      border-bottom-color: var(--fill-color);\n",
              "    }\n",
              "    90% {\n",
              "      border-color: transparent;\n",
              "      border-bottom-color: var(--fill-color);\n",
              "    }\n",
              "  }\n",
              "</style>\n",
              "\n",
              "  <script>\n",
              "    async function quickchart(key) {\n",
              "      const quickchartButtonEl =\n",
              "        document.querySelector('#' + key + ' button');\n",
              "      quickchartButtonEl.disabled = true;  // To prevent multiple clicks.\n",
              "      quickchartButtonEl.classList.add('colab-df-spinner');\n",
              "      try {\n",
              "        const charts = await google.colab.kernel.invokeFunction(\n",
              "            'suggestCharts', [key], {});\n",
              "      } catch (error) {\n",
              "        console.error('Error during call to suggestCharts:', error);\n",
              "      }\n",
              "      quickchartButtonEl.classList.remove('colab-df-spinner');\n",
              "      quickchartButtonEl.classList.add('colab-df-quickchart-complete');\n",
              "    }\n",
              "    (() => {\n",
              "      let quickchartButtonEl =\n",
              "        document.querySelector('#df-bc6aef79-b343-4299-ac80-ec407ed242e2 button');\n",
              "      quickchartButtonEl.style.display =\n",
              "        google.colab.kernel.accessAllowed ? 'block' : 'none';\n",
              "    })();\n",
              "  </script>\n",
              "</div>\n",
              "\n",
              "  <div id=\"id_77c842b5-e4ff-4e1e-8b07-e0c0d1448c41\">\n",
              "    <style>\n",
              "      .colab-df-generate {\n",
              "        background-color: #E8F0FE;\n",
              "        border: none;\n",
              "        border-radius: 50%;\n",
              "        cursor: pointer;\n",
              "        display: none;\n",
              "        fill: #1967D2;\n",
              "        height: 32px;\n",
              "        padding: 0 0 0 0;\n",
              "        width: 32px;\n",
              "      }\n",
              "\n",
              "      .colab-df-generate:hover {\n",
              "        background-color: #E2EBFA;\n",
              "        box-shadow: 0px 1px 2px rgba(60, 64, 67, 0.3), 0px 1px 3px 1px rgba(60, 64, 67, 0.15);\n",
              "        fill: #174EA6;\n",
              "      }\n",
              "\n",
              "      [theme=dark] .colab-df-generate {\n",
              "        background-color: #3B4455;\n",
              "        fill: #D2E3FC;\n",
              "      }\n",
              "\n",
              "      [theme=dark] .colab-df-generate:hover {\n",
              "        background-color: #434B5C;\n",
              "        box-shadow: 0px 1px 3px 1px rgba(0, 0, 0, 0.15);\n",
              "        filter: drop-shadow(0px 1px 2px rgba(0, 0, 0, 0.3));\n",
              "        fill: #FFFFFF;\n",
              "      }\n",
              "    </style>\n",
              "    <button class=\"colab-df-generate\" onclick=\"generateWithVariable('df')\"\n",
              "            title=\"Generate code using this dataframe.\"\n",
              "            style=\"display:none;\">\n",
              "\n",
              "  <svg xmlns=\"http://www.w3.org/2000/svg\" height=\"24px\"viewBox=\"0 0 24 24\"\n",
              "       width=\"24px\">\n",
              "    <path d=\"M7,19H8.4L18.45,9,17,7.55,7,17.6ZM5,21V16.75L18.45,3.32a2,2,0,0,1,2.83,0l1.4,1.43a1.91,1.91,0,0,1,.58,1.4,1.91,1.91,0,0,1-.58,1.4L9.25,21ZM18.45,9,17,7.55Zm-12,3A5.31,5.31,0,0,0,4.9,8.1,5.31,5.31,0,0,0,1,6.5,5.31,5.31,0,0,0,4.9,4.9,5.31,5.31,0,0,0,6.5,1,5.31,5.31,0,0,0,8.1,4.9,5.31,5.31,0,0,0,12,6.5,5.46,5.46,0,0,0,6.5,12Z\"/>\n",
              "  </svg>\n",
              "    </button>\n",
              "    <script>\n",
              "      (() => {\n",
              "      const buttonEl =\n",
              "        document.querySelector('#id_77c842b5-e4ff-4e1e-8b07-e0c0d1448c41 button.colab-df-generate');\n",
              "      buttonEl.style.display =\n",
              "        google.colab.kernel.accessAllowed ? 'block' : 'none';\n",
              "\n",
              "      buttonEl.onclick = () => {\n",
              "        google.colab.notebook.generateWithVariable('df');\n",
              "      }\n",
              "      })();\n",
              "    </script>\n",
              "  </div>\n",
              "\n",
              "    </div>\n",
              "  </div>\n"
            ],
            "application/vnd.google.colaboratory.intrinsic+json": {
              "type": "dataframe",
              "variable_name": "df",
              "summary": "{\n  \"name\": \"df\",\n  \"rows\": 5,\n  \"fields\": [\n    {\n      \"column\": \"Precipita\\u00e7\\u00e3o\",\n      \"properties\": {\n        \"dtype\": \"number\",\n        \"std\": 19.91928713583897,\n        \"min\": 88.9,\n        \"max\": 139.7,\n        \"num_unique_values\": 5,\n        \"samples\": [\n          108.5,\n          127.0,\n          104.1\n        ],\n        \"semantic_type\": \"\",\n        \"description\": \"\"\n      }\n    },\n    {\n      \"column\": \"Escoamento\",\n      \"properties\": {\n        \"dtype\": \"number\",\n        \"std\": 3.526045944113604,\n        \"min\": 14.6,\n        \"max\": 23.2,\n        \"num_unique_values\": 5,\n        \"samples\": [\n          16.7,\n          19.5,\n          15.3\n        ],\n        \"semantic_type\": \"\",\n        \"description\": \"\"\n      }\n    }\n  ]\n}"
            }
          },
          "metadata": {},
          "execution_count": 28
        }
      ],
      "source": [
        "df"
      ]
    },
    {
      "cell_type": "markdown",
      "source": [
        "# A )\n"
      ],
      "metadata": {
        "id": "Z9-GMIdIla-n"
      },
      "id": "Z9-GMIdIla-n"
    },
    {
      "cell_type": "code",
      "source": [
        "X = df[['Precipitação']]\n",
        "y = df['Escoamento']\n",
        "\n",
        "modelo = LinearRegression()\n",
        "modelo.fit(X, y)\n",
        "coef_angular = modelo.coef_[0]\n",
        "coef_linear = modelo.intercept_\n",
        "\n",
        "print(f\"A função que melhor se ajusta aos dados é: Escoamento = {coef_angular:.2f} * Precipitação + {coef_linear:.2f}\")"
      ],
      "metadata": {
        "colab": {
          "base_uri": "https://localhost:8080/"
        },
        "id": "_1wPkMbhleCu",
        "outputId": "d68bd298-cf40-4c89-d5f5-5e69bfa4518b"
      },
      "id": "_1wPkMbhleCu",
      "execution_count": 15,
      "outputs": [
        {
          "output_type": "stream",
          "name": "stdout",
          "text": [
            "A função que melhor se ajusta aos dados é: Escoamento = 0.17 * Precipitação + -1.62\n"
          ]
        }
      ]
    },
    {
      "cell_type": "markdown",
      "source": [
        "# B)"
      ],
      "metadata": {
        "id": "2JF1roLOmAvX"
      },
      "id": "2JF1roLOmAvX"
    },
    {
      "cell_type": "code",
      "source": [
        "coef_corr = df['Precipitação'].corr(df['Escoamento'])\n",
        "\n",
        "print(f\"Coeficiente de Correlação: {coef_corr:.4f}\")"
      ],
      "metadata": {
        "colab": {
          "base_uri": "https://localhost:8080/"
        },
        "id": "58WVcV0XmC9e",
        "outputId": "9350d945-c81b-49ac-9d9f-e68316bfd2ab"
      },
      "id": "58WVcV0XmC9e",
      "execution_count": 16,
      "outputs": [
        {
          "output_type": "stream",
          "name": "stdout",
          "text": [
            "Coeficiente de Correlação: 0.9685\n"
          ]
        }
      ]
    },
    {
      "cell_type": "markdown",
      "source": [
        "# C)"
      ],
      "metadata": {
        "id": "oso5_aatmS6Y"
      },
      "id": "oso5_aatmS6Y"
    },
    {
      "cell_type": "code",
      "source": [
        "precipitacao_previsao = [55.5, 66.4, 22.1, 1]\n",
        "\n",
        "previsao_escoamento = coef_angular * pd.Series(precipitacao_previsao) + coef_linear\n",
        "\n",
        "for i, precipt in enumerate(precipitacao_previsao):\n",
        "    print(f\"Para uma Precipitação de {precipt} cm/ano, a Previsão de Escoamento é de {previsao_escoamento[i]:.2f} m3/s.\")"
      ],
      "metadata": {
        "colab": {
          "base_uri": "https://localhost:8080/"
        },
        "id": "HuvJOtqNmRtF",
        "outputId": "837c5f14-9f95-47b9-ab38-26eb2edf8b7d"
      },
      "id": "HuvJOtqNmRtF",
      "execution_count": 29,
      "outputs": [
        {
          "output_type": "stream",
          "name": "stdout",
          "text": [
            "Para uma Precipitação de 55.5 cm/ano, a Previsão de Escoamento é de 7.89 m3/s.\n",
            "Para uma Precipitação de 66.4 cm/ano, a Previsão de Escoamento é de 9.76 m3/s.\n",
            "Para uma Precipitação de 22.1 cm/ano, a Previsão de Escoamento é de 2.17 m3/s.\n",
            "Para uma Precipitação de 1 cm/ano, a Previsão de Escoamento é de -1.45 m3/s.\n"
          ]
        }
      ]
    },
    {
      "cell_type": "markdown",
      "source": [
        "# D)"
      ],
      "metadata": {
        "id": "e0cDZXC-n8s_"
      },
      "id": "e0cDZXC-n8s_"
    },
    {
      "cell_type": "code",
      "source": [
        "precipitacao_estimada = 140\n",
        "\n",
        "escoamento_estimado = coef_angular * precipitacao_estimada + coef_linear\n",
        "\n",
        "print(f\"Para uma Precipitação de {precipitacao_estimada} cm/ano, a estimativa de Escoamento é de {escoamento_estimado:.2f} m3/s.\")"
      ],
      "metadata": {
        "colab": {
          "base_uri": "https://localhost:8080/"
        },
        "id": "EUetM6rfnnLM",
        "outputId": "8be461ee-a77b-4645-adbf-f8231c38e103"
      },
      "id": "EUetM6rfnnLM",
      "execution_count": 30,
      "outputs": [
        {
          "output_type": "stream",
          "name": "stdout",
          "text": [
            "Para uma Precipitação de 140 cm/ano, a estimativa de Escoamento é de 22.38 m3/s.\n"
          ]
        }
      ]
    },
    {
      "cell_type": "markdown",
      "id": "fa39c90c",
      "metadata": {
        "tags": [],
        "id": "fa39c90c"
      },
      "source": [
        "# QUESTÃO 02"
      ]
    },
    {
      "cell_type": "markdown",
      "id": "daa1d8be-4aa5-4b01-9723-6f9490cdaf2b",
      "metadata": {
        "id": "daa1d8be-4aa5-4b01-9723-6f9490cdaf2b"
      },
      "source": [
        " É esperado que a massa muscular de uma pessoa diminua com a idade. Para estudar essa relação, uma nutricionista selecionou 18 mulheres, com idade entre 40 e 79 anos, e observou em cada uma delas a idade (X) e a massa muscular (Y)."
      ]
    },
    {
      "cell_type": "markdown",
      "id": "679960fb-b89f-4a51-a87b-7c064ad1164c",
      "metadata": {
        "id": "679960fb-b89f-4a51-a87b-7c064ad1164c"
      },
      "source": [
        "- a. Construa o diagrama de dispersão e interprete-o.\n",
        "\n",
        "- b. Calcule o coeficiente de correlação linear entre X e Y.\n",
        "\n",
        "- c. Ajuste uma reta de regressão para a relação entre as variáveis Y: massa muscular (dependente) e X: idade (independente).\n",
        "\n",
        "- d. Considerando a reta estimada dada no item (c), estime a massa muscular média de mulheres com 50 anos."
      ]
    },
    {
      "cell_type": "code",
      "execution_count": 34,
      "id": "95032418",
      "metadata": {
        "id": "95032418"
      },
      "outputs": [],
      "source": [
        "# Dados Fornecidos e Formatados para formato adequado.\n",
        "\n",
        "X = np.array([71,64,43,67,56,73,68,56,76,65,45,58,45,53,49,78,73,68]).reshape(-1, 1)\n",
        "y = np.array([82,91,100,68,87,73,78,80,65,84,116, 76,97,100,105,77, 73,78]).reshape(-1, 1)"
      ]
    },
    {
      "cell_type": "code",
      "source": [
        "X"
      ],
      "metadata": {
        "id": "3i4LvRhIMgNO",
        "colab": {
          "base_uri": "https://localhost:8080/"
        },
        "outputId": "b5196a01-e9b5-420f-f1fa-2bb6e96d50b1"
      },
      "id": "3i4LvRhIMgNO",
      "execution_count": 35,
      "outputs": [
        {
          "output_type": "execute_result",
          "data": {
            "text/plain": [
              "array([[71],\n",
              "       [64],\n",
              "       [43],\n",
              "       [67],\n",
              "       [56],\n",
              "       [73],\n",
              "       [68],\n",
              "       [56],\n",
              "       [76],\n",
              "       [65],\n",
              "       [45],\n",
              "       [58],\n",
              "       [45],\n",
              "       [53],\n",
              "       [49],\n",
              "       [78],\n",
              "       [73],\n",
              "       [68]])"
            ]
          },
          "metadata": {},
          "execution_count": 35
        }
      ]
    },
    {
      "cell_type": "code",
      "source": [
        "y"
      ],
      "metadata": {
        "colab": {
          "base_uri": "https://localhost:8080/"
        },
        "id": "iw9SbLZ4paNK",
        "outputId": "c5564b99-f58c-44ee-d1f4-5a1369ab2151"
      },
      "id": "iw9SbLZ4paNK",
      "execution_count": 36,
      "outputs": [
        {
          "output_type": "execute_result",
          "data": {
            "text/plain": [
              "array([[ 82],\n",
              "       [ 91],\n",
              "       [100],\n",
              "       [ 68],\n",
              "       [ 87],\n",
              "       [ 73],\n",
              "       [ 78],\n",
              "       [ 80],\n",
              "       [ 65],\n",
              "       [ 84],\n",
              "       [116],\n",
              "       [ 76],\n",
              "       [ 97],\n",
              "       [100],\n",
              "       [105],\n",
              "       [ 77],\n",
              "       [ 73],\n",
              "       [ 78]])"
            ]
          },
          "metadata": {},
          "execution_count": 36
        }
      ]
    },
    {
      "cell_type": "markdown",
      "source": [
        "# A)"
      ],
      "metadata": {
        "id": "WECrb4mwsO1X"
      },
      "id": "WECrb4mwsO1X"
    },
    {
      "cell_type": "code",
      "source": [
        "plt.figure(figsize=(8, 6))\n",
        "plt.scatter(X, y, color='blue')\n",
        "plt.title('Diagrama de Dispersão - Idade vs. Massa Muscular')\n",
        "plt.xlabel('Idade (anos)')\n",
        "plt.ylabel('Massa Muscular')\n",
        "plt.grid(True)\n",
        "plt.show()"
      ],
      "metadata": {
        "colab": {
          "base_uri": "https://localhost:8080/",
          "height": 564
        },
        "id": "iGK730Zup8UR",
        "outputId": "e56d22bd-f9f4-4045-889f-dcb297aa9538"
      },
      "id": "iGK730Zup8UR",
      "execution_count": 37,
      "outputs": [
        {
          "output_type": "display_data",
          "data": {
            "text/plain": [
              "<Figure size 800x600 with 1 Axes>"
            ],
            "image/png": "[encoded data removed]"
          },
          "metadata": {}
        }
      ]
    },
    {
      "cell_type": "markdown",
      "source": [
        "# Análise\n",
        "\n",
        "`X Representa a Idade em Anos e Y a Massa Muscular`\n",
        "\n",
        "`Pode-se observar que existiu uma maior concentração de amostras nas idades entre 55 e 80`\n",
        "\n",
        "`Todavia é capaz de observar que as mulheres de até 55 anos possuem uma Massa Muscular (eixo Y) Consideravelmente maior que as mais velhas`\n",
        "\n",
        "`Pelas posições do maior e do menor indíce de Massa Muscular (eixo Y) pode chegar a uma conclusão que a Massa Muscular diminui com o avanço da idade`\n",
        "\n",
        "\n",
        "\n"
      ],
      "metadata": {
        "id": "XDV1KCUfrhSc"
      },
      "id": "XDV1KCUfrhSc"
    },
    {
      "cell_type": "markdown",
      "source": [
        "# B)"
      ],
      "metadata": {
        "id": "qUjOJxyPsRhH"
      },
      "id": "qUjOJxyPsRhH"
    },
    {
      "cell_type": "code",
      "source": [
        "coef_corr = np.corrcoef(X.flatten(), y.flatten())[0, 1]\n",
        "\n",
        "print(f\"O coeficiente de correlação linear entre X e Y é: {coef_corr:.4f}\")"
      ],
      "metadata": {
        "colab": {
          "base_uri": "https://localhost:8080/"
        },
        "id": "72rz_hoPsTTr",
        "outputId": "485f3952-e80b-48e6-bdc5-8fd6e45ffa5d"
      },
      "id": "72rz_hoPsTTr",
      "execution_count": 38,
      "outputs": [
        {
          "output_type": "stream",
          "name": "stdout",
          "text": [
            "O coeficiente de correlação linear entre X e Y é: -0.8367\n"
          ]
        }
      ]
    },
    {
      "cell_type": "markdown",
      "source": [
        "# C)"
      ],
      "metadata": {
        "id": "OORMSytks2nw"
      },
      "id": "OORMSytks2nw"
    },
    {
      "cell_type": "code",
      "source": [
        "# Primeiro a Criação do Modelo de LR\n",
        "\n",
        "modelo = LinearRegression()\n",
        "\n",
        "modelo.fit(X, y)\n",
        "\n",
        "coef_angular = modelo.coef_[0][0]\n",
        "coef_linear = modelo.intercept_[0]\n",
        "\n",
        "y_pred = modelo.predict(X)"
      ],
      "metadata": {
        "id": "vOX-mlfes32j"
      },
      "id": "vOX-mlfes32j",
      "execution_count": 39,
      "outputs": []
    },
    {
      "cell_type": "code",
      "source": [
        "# Construção do Gráfico utilizando a reta de Regressão\n",
        "\n",
        "plt.figure(figsize=(8, 6))\n",
        "plt.scatter(X, y, color='blue', label='Dados Originais')\n",
        "plt.plot(X, y_pred, color='red', label=f'Reta de Regressão: y = {coef_angular:.2f}x + {coef_linear:.2f}')\n",
        "plt.title('Reta de Regressão - Idade vs. Massa Muscular')\n",
        "plt.xlabel('Idade (anos)')\n",
        "plt.ylabel('Massa Muscular')\n",
        "plt.legend()\n",
        "plt.grid(True)\n",
        "plt.show()"
      ],
      "metadata": {
        "colab": {
          "base_uri": "https://localhost:8080/",
          "height": 564
        },
        "id": "wpHE5OUWteoI",
        "outputId": "0837fb37-551f-4478-fcf9-5977df22f9be"
      },
      "id": "wpHE5OUWteoI",
      "execution_count": 42,
      "outputs": [
        {
          "output_type": "display_data",
          "data": {
            "text/plain": [
              "<Figure size 800x600 with 1 Axes>"
            ],
            "image/png": "[encoded data removed]"
          },
          "metadata": {}
        }
      ]
    },
    {
      "cell_type": "markdown",
      "source": [
        "# D)"
      ],
      "metadata": {
        "id": "Bvua4QCSuJ1t"
      },
      "id": "Bvua4QCSuJ1t"
    },
    {
      "cell_type": "code",
      "source": [
        "idade_estimada = 50\n",
        "massa_muscular_estimada = coef_angular * idade_estimada + coef_linear\n",
        "\n",
        "print(f\"A Estimativa da Massa Muscular média para mulheres com 50 anos é de {massa_muscular_estimada:.2f}.\")"
      ],
      "metadata": {
        "colab": {
          "base_uri": "https://localhost:8080/"
        },
        "id": "30ANKevHuK_P",
        "outputId": "25f90926-899d-4a0d-b211-e0e664d40467"
      },
      "id": "30ANKevHuK_P",
      "execution_count": 45,
      "outputs": [
        {
          "output_type": "stream",
          "name": "stdout",
          "text": [
            "A Estimativa da Massa Muscular média para mulheres com 50 anos é de 96.86.\n"
          ]
        }
      ]
    },
    {
      "cell_type": "markdown",
      "id": "344043f2",
      "metadata": {
        "tags": [],
        "id": "344043f2"
      },
      "source": [
        "# QUESTÃO 03"
      ]
    },
    {
      "cell_type": "markdown",
      "id": "28b36d2b-394f-4d0e-88eb-16d26e544e4a",
      "metadata": {
        "id": "28b36d2b-394f-4d0e-88eb-16d26e544e4a"
      },
      "source": [
        "Os dados abaixo correspondem às variáveis renda familiar e gasto com alimentação numa amostra de dez famílias, representadas em salários mínimos.\n",
        "\n",
        "(a)\n",
        "Qual a previsão do gasto com alimentação para uma família com renda de 170 reais?\n",
        "\n",
        "(b)\n",
        "Qual a previsão do gasto para famílias com excepcional renda, por exemplo 1.000 reais? Você acha esse valor razoável? Por quê?\n"
      ]
    },
    {
      "cell_type": "code",
      "execution_count": 48,
      "id": "ac9b1858",
      "metadata": {
        "id": "ac9b1858"
      },
      "outputs": [],
      "source": [
        "# Dados Fornecidos e Formatados para formato adequado.\n",
        "\n",
        "Renda = np.array([3,5,10,20,30,50,70,100,150,200]).reshape(-1, 1)\n",
        "Gasto = np.array([1.5,2.0,6.0,10.0,15.0,20.0,25.0,40.0,60.0,80.0]).reshape(-1, 1)"
      ]
    },
    {
      "cell_type": "code",
      "source": [
        "Renda"
      ],
      "metadata": {
        "id": "Kaal2faTMiZY",
        "colab": {
          "base_uri": "https://localhost:8080/"
        },
        "outputId": "69adba48-95f2-43dc-d7b5-857642f09619"
      },
      "id": "Kaal2faTMiZY",
      "execution_count": 49,
      "outputs": [
        {
          "output_type": "execute_result",
          "data": {
            "text/plain": [
              "array([[  3],\n",
              "       [  5],\n",
              "       [ 10],\n",
              "       [ 20],\n",
              "       [ 30],\n",
              "       [ 50],\n",
              "       [ 70],\n",
              "       [100],\n",
              "       [150],\n",
              "       [200]])"
            ]
          },
          "metadata": {},
          "execution_count": 49
        }
      ]
    },
    {
      "cell_type": "code",
      "source": [
        "Gasto"
      ],
      "metadata": {
        "colab": {
          "base_uri": "https://localhost:8080/"
        },
        "id": "dZBweSwgujrb",
        "outputId": "6f5bcfc5-22a6-41f3-98ca-f25968a8b317"
      },
      "id": "dZBweSwgujrb",
      "execution_count": 50,
      "outputs": [
        {
          "output_type": "execute_result",
          "data": {
            "text/plain": [
              "array([[ 1.5],\n",
              "       [ 2. ],\n",
              "       [ 6. ],\n",
              "       [10. ],\n",
              "       [15. ],\n",
              "       [20. ],\n",
              "       [25. ],\n",
              "       [40. ],\n",
              "       [60. ],\n",
              "       [80. ]])"
            ]
          },
          "metadata": {},
          "execution_count": 50
        }
      ]
    },
    {
      "cell_type": "markdown",
      "source": [
        "# A )"
      ],
      "metadata": {
        "id": "Ch8Uvj6bwX_p"
      },
      "id": "Ch8Uvj6bwX_p"
    },
    {
      "cell_type": "code",
      "source": [
        "modelo = LinearRegression()\n",
        "\n",
        "modelo.fit(Renda, Gasto)\n",
        "\n",
        "renda_previsao = np.array([[170]])\n",
        "gasto_previsao = modelo.predict(renda_previsao)\n",
        "\n",
        "print(f\"A previsão do gasto com alimentação para uma família com renda de 170 reais é de {gasto_previsao[0][0]:.2f} reais.\")"
      ],
      "metadata": {
        "colab": {
          "base_uri": "https://localhost:8080/"
        },
        "id": "nwk_s1LOwXk4",
        "outputId": "9a537ea2-b6af-4f6f-bcd0-30e62d215bb2"
      },
      "id": "nwk_s1LOwXk4",
      "execution_count": 55,
      "outputs": [
        {
          "output_type": "stream",
          "name": "stdout",
          "text": [
            "A previsão do gasto com alimentação para uma família com renda de 170 reais é de 67.56 reais.\n"
          ]
        }
      ]
    },
    {
      "cell_type": "markdown",
      "source": [
        "# B)"
      ],
      "metadata": {
        "id": "8191QJaVxTj-"
      },
      "id": "8191QJaVxTj-"
    },
    {
      "cell_type": "code",
      "source": [
        "renda_previsao = np.array([[1000]])\n",
        "gasto_previsao = modelo.predict(renda_previsao)\n",
        "\n",
        "print(f\"A previsão do gasto com alimentação para uma família com renda de 1000 reais é de {gasto_previsao[0][0]:.2f} reais.\")"
      ],
      "metadata": {
        "colab": {
          "base_uri": "https://localhost:8080/"
        },
        "id": "RBLlAuVaxU7O",
        "outputId": "93f91455-96f5-4597-cb6b-5d4cbeb1a3d5"
      },
      "id": "RBLlAuVaxU7O",
      "execution_count": 57,
      "outputs": [
        {
          "output_type": "stream",
          "name": "stdout",
          "text": [
            "A previsão do gasto com alimentação para uma família com renda de 1000 reais é de 392.75 reais.\n"
          ]
        }
      ]
    },
    {
      "cell_type": "markdown",
      "source": [
        "`Consideraria levemente absurdo por se tratar de quase 40% da renda sendo direcionado apenas para Alimentação sem considerar os outros gastos necessários para sobreviver no mundo de hoje`"
      ],
      "metadata": {
        "id": "jQ7i8ZqDxee-"
      },
      "id": "jQ7i8ZqDxee-"
    },
    {
      "cell_type": "code",
      "source": [
        "renda_previsao = np.array([[1412]])\n",
        "gasto_previsao = modelo.predict(renda_previsao)\n",
        "\n",
        "print(f\"A previsão do gasto com alimentação para uma família com renda de 1412 reais é de {gasto_previsao[0][0]:.2f} reais.\")"
      ],
      "metadata": {
        "colab": {
          "base_uri": "https://localhost:8080/"
        },
        "id": "6CIjJC2dxwPs",
        "outputId": "b5ef8f02-d90f-40bb-f53d-51946d39433d"
      },
      "id": "6CIjJC2dxwPs",
      "execution_count": 58,
      "outputs": [
        {
          "output_type": "stream",
          "name": "stdout",
          "text": [
            "A previsão do gasto com alimentação para uma família com renda de 1412 reais é de 554.17 reais.\n"
          ]
        }
      ]
    },
    {
      "cell_type": "markdown",
      "source": [
        "# Bônus\n",
        "\n",
        "`Para efeito de comparação utilizei o salário mínimo atual que é de R$ 1412 pude observar que o gasto com alimentação seria de R$ 554.17, o que representa 39% do Salário Mínimo atual do Brasil sendo direcionado apenas para Alimentação.`"
      ],
      "metadata": {
        "id": "QaLFhlP_xzwx"
      },
      "id": "QaLFhlP_xzwx"
    }
  ],
  "metadata": {
    "kernelspec": {
      "display_name": "Python 3 (ipykernel)",
      "language": "python",
      "name": "python3"
    },
    "language_info": {
      "codemirror_mode": {
        "name": "ipython",
        "version": 3
      },
      "file_extension": ".py",
      "mimetype": "text/x-python",
      "name": "python",
      "nbconvert_exporter": "python",
      "pygments_lexer": "ipython3",
      "version": "3.11.2"
    },
    "colab": {
      "provenance": [],
      "include_colab_link": true
    }
  },
  "nbformat": 4,
  "nbformat_minor": 5
}