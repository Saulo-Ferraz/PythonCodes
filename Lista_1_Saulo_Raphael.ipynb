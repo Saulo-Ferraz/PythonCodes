{
  "cells": [
    {
      "cell_type": "markdown",
      "metadata": {
        "id": "view-in-github",
        "colab_type": "text"
      },
      "source": [
        "<a href=\"https://colab.research.google.com/github/Saulo-Ferraz/PythonCodes/blob/main/Lista_0_Saulo_Raphael.ipynb\" target=\"_parent\"><img src=\"https://colab.research.google.com/assets/colab-badge.svg\" alt=\"Open In Colab\"/></a>"
      ]
    },
    {
      "cell_type": "markdown",
      "id": "01ddbbc7",
      "metadata": {
        "id": "01ddbbc7"
      },
      "source": [
        "# Para todas as questões abaixo comente o que você está fazendo no código"
      ]
    },
    {
      "cell_type": "markdown",
      "id": "d828cc4f",
      "metadata": {
        "id": "d828cc4f"
      },
      "source": [
        "Questão 1: Crie um conversor de real em dólares. Imprima o resultado usando a função format."
      ]
    },
    {
      "cell_type": "code",
      "execution_count": 10,
      "id": "b415317b",
      "metadata": {
        "id": "b415317b",
        "colab": {
          "base_uri": "https://localhost:8080/"
        },
        "outputId": "c112553a-a890-4d29-8a46-fc4b10ed0f95"
      },
      "outputs": [
        {
          "output_type": "stream",
          "name": "stdout",
          "text": [
            "Quantos reais você quer converter ? 1450.50\n",
            "O valor em Dólares é $290.1\n"
          ]
        }
      ],
      "source": [
        "# RESPOSTA AQUI\n",
        "\n",
        "dolar = 5\n",
        "real = float(input(\"Quantos reais você quer converter ? \"))\n",
        "\n",
        "calculo = real/dolar\n",
        "\n",
        "print(f\"O valor em Dólares é ${calculo}\")"
      ]
    },
    {
      "cell_type": "markdown",
      "id": "c2e76171",
      "metadata": {
        "id": "c2e76171"
      },
      "source": [
        "Questão 2:Crie um sistema que imprima o valor que você vai pagar e o desconto que você teria em determinado item do supermercado. Imprima concatenando."
      ]
    },
    {
      "cell_type": "code",
      "execution_count": null,
      "id": "ddb842a5",
      "metadata": {
        "id": "ddb842a5",
        "colab": {
          "base_uri": "https://localhost:8080/"
        },
        "outputId": "d91f5d8b-b1fd-4443-eb6d-006535f18ece"
      },
      "outputs": [
        {
          "output_type": "stream",
          "name": "stdout",
          "text": [
            "O Valor que será pago é de 72.0 e o desconto aplicado foi de 8.0\n"
          ]
        }
      ],
      "source": [
        "# RESPOSTA AQUI\n",
        "\n",
        "valorP = 80\n",
        "desconto = 80 * 0.1\n",
        "valorD = valorP - desconto\n",
        "\n",
        "print(f\"O Valor que será pago é de {valorD} e o desconto aplicado foi de {desconto}\")"
      ]
    },
    {
      "cell_type": "markdown",
      "id": "d09d1e38",
      "metadata": {
        "id": "d09d1e38"
      },
      "source": [
        "Questão 3: Você chegou na última questão da Fuvest, e se você acertar essa você entra na USP.\n",
        "A questão diz o seguinte:\n",
        "Faça as operações abaixo usando os operadores e imprima o resultado delas:\n",
        "\n",
        "    2 multiplicado por 3\n",
        "    2 adicionado a 65\n",
        "    5 dividido por 10\n",
        "    O resto da divisão de 4 por 3\n",
        "    Subtrair 4 de 10\n",
        "    2 elevado a 4\n",
        "    A parte inteira do resultado de 10 dividido por 3\n",
        "    A raíz quadrada de 4\n"
      ]
    },
    {
      "cell_type": "code",
      "execution_count": null,
      "id": "1ea606e8",
      "metadata": {
        "id": "1ea606e8",
        "colab": {
          "base_uri": "https://localhost:8080/"
        },
        "outputId": "90a11022-7088-4037-d490-510f913d55b1"
      },
      "outputs": [
        {
          "output_type": "stream",
          "name": "stdout",
          "text": [
            "6\n",
            "67\n",
            "0.5\n",
            "1\n",
            "6\n",
            "16\n",
            "3\n",
            "2.0\n"
          ]
        }
      ],
      "source": [
        "# RESPOSTA AQUI\n",
        "\n",
        "pi = round(10/3)\n",
        "\n",
        "print(2 * 3)\n",
        "print(65 + 2)\n",
        "print(5 / 10)\n",
        "print(4%3)\n",
        "print(10 - 4)\n",
        "print(2 ** 4)\n",
        "print(pi)\n",
        "print(4**0.5)"
      ]
    },
    {
      "cell_type": "markdown",
      "id": "2a1c24f2",
      "metadata": {
        "id": "2a1c24f2"
      },
      "source": [
        "Questão 4: Você está correndo risco de ser jubilado, então, precisa escrever uma carta para o reitor com seus dados pessoais:nome,idade,curso e ano de ingresso, para suplicar pela sua estadia na USP. Use seus dados como variáveis e os imprima:"
      ]
    },
    {
      "cell_type": "code",
      "execution_count": null,
      "id": "fdbc24fe",
      "metadata": {
        "id": "fdbc24fe",
        "colab": {
          "base_uri": "https://localhost:8080/"
        },
        "outputId": "b90ca942-4437-4edc-91a6-192ae068d12e"
      },
      "outputs": [
        {
          "output_type": "stream",
          "name": "stdout",
          "text": [
            "Meu Nome é Saulo Raphael, tenho 22 anos e sou aluno do Curso de Sistemas para Internet desde 2022\n"
          ]
        }
      ],
      "source": [
        "# RESPOSTA AQUI\n",
        "\n",
        "nome = \"Saulo Raphael\"\n",
        "idade = 22\n",
        "curso = \"Sistemas para Internet\"\n",
        "anoI = 2022\n",
        "\n",
        "print(f\"Meu Nome é {nome}, tenho {idade} anos e sou aluno do Curso de {curso} desde {anoI}\")"
      ]
    },
    {
      "cell_type": "markdown",
      "id": "8cdae94d",
      "metadata": {
        "id": "8cdae94d"
      },
      "source": [
        "Questão 5:Calcule a função abaixo:\n",
        "1. 4a^2+5b a=5 b=3\n",
        "2. 4a-(3b)/2 a=92 b=76"
      ]
    },
    {
      "cell_type": "code",
      "execution_count": null,
      "id": "89c6d2ff",
      "metadata": {
        "id": "89c6d2ff",
        "colab": {
          "base_uri": "https://localhost:8080/"
        },
        "outputId": "5b1bc4ff-bbd0-4791-9b75-97fbaa0cfd5f"
      },
      "outputs": [
        {
          "output_type": "stream",
          "name": "stdout",
          "text": [
            "115\n",
            "70.0\n"
          ]
        }
      ],
      "source": [
        "#questão 1\n",
        "# RESPOSTA AQUI\n",
        "\n",
        "print(4*(5 ** 2) + 5 * 3)\n",
        "\n",
        "#questão 2\n",
        "# RESPOSTA AQUI\n",
        "\n",
        "print((4 * 92 - (3 * 76) )/ 2)"
      ]
    },
    {
      "cell_type": "markdown",
      "id": "bfd4096f",
      "metadata": {
        "id": "bfd4096f"
      },
      "source": [
        "Questão 5: Hoje é seu dia de sorte, seu chefe falou que você e todos os outros estagiários vão ter um aumento de 7,3% nos salários. Faça um programa que mostre automaticamente o valor do salário com o aumento quando o estagiário inserir o quanto ganha atualmente."
      ]
    },
    {
      "cell_type": "code",
      "execution_count": null,
      "id": "b10e3513",
      "metadata": {
        "id": "b10e3513",
        "colab": {
          "base_uri": "https://localhost:8080/"
        },
        "outputId": "9cfde8f8-0693-4178-c126-56baec9514fe"
      },
      "outputs": [
        {
          "output_type": "stream",
          "name": "stdout",
          "text": [
            "Informe seu salário: 1257\n",
            "Seu salário com reajuste será de: R$1348.761\n"
          ]
        }
      ],
      "source": [
        "# RESPOSTA AQUI\n",
        "\n",
        "\n",
        "salarioA = float(input(\"Informe seu salário: \"))\n",
        "aumento = salarioA * 0.073\n",
        "salarioF = salarioA + aumento\n",
        "\n",
        "print(f\"Seu salário com reajuste será de: R${salarioF}\")"
      ]
    },
    {
      "cell_type": "markdown",
      "id": "444bf6ca",
      "metadata": {
        "id": "444bf6ca"
      },
      "source": [
        "Questão 6: Agora, você vai fazer uma calculadora, na qual o usuário insere 2 números, e você precisa imprimir, usando a função format, a soma, subtração, divisão e seu resto.(números inteiros)"
      ]
    },
    {
      "cell_type": "code",
      "execution_count": null,
      "id": "504ad475",
      "metadata": {
        "id": "504ad475",
        "colab": {
          "base_uri": "https://localhost:8080/"
        },
        "outputId": "cb1e1b55-7b8d-4bf5-ce28-d154a8b9a9fa"
      },
      "outputs": [
        {
          "output_type": "stream",
          "name": "stdout",
          "text": [
            "Digite um número: 154\n",
            "Digite outro número: 12\n",
            " Soma: 166 <> Subtração: 142 <> Divisão: 12.8 <> Resto: 10 \n"
          ]
        }
      ],
      "source": [
        "# RESPOSTA AQUI\n",
        "\n",
        "numA = int(input(\"Digite um número: \"))\n",
        "numB = int(input(\"Digite outro número: \"))\n",
        "\n",
        "print(f\" Soma: {numA + numB} <> Subtração: {numA - numB} <> Divisão: {round(numA/numB, 1)} <> Resto: {round(numA % numB)} \")"
      ]
    },
    {
      "cell_type": "markdown",
      "id": "2c6ecac5",
      "metadata": {
        "id": "2c6ecac5"
      },
      "source": [
        "Questão 7:Você está preparando um evento para o seu instituto e precisa fazer uma ficha de cadastro. Nele a pessoa vai ter que inserir nome, altura, comida predileta,e idade(só números)."
      ]
    },
    {
      "cell_type": "code",
      "execution_count": null,
      "id": "4fade6c5",
      "metadata": {
        "id": "4fade6c5",
        "colab": {
          "base_uri": "https://localhost:8080/"
        },
        "outputId": "0707932d-e21c-4d98-d1b0-0037a697fda4"
      },
      "outputs": [
        {
          "name": "stdout",
          "output_type": "stream",
          "text": [
            "Insira seu nome: Carlos\n",
            "Insira sua altura: 1.98\n",
            "Qual sua comida favorita ? Peixe\n",
            "Insira sua idade: 21\n"
          ]
        }
      ],
      "source": [
        "# RESPOSTA AQUI\n",
        "\n",
        "nome = str(input(\"Insira seu nome: \"))\n",
        "altura = (input(\"Insira sua altura: \"))\n",
        "comidaF = str(input(\"Qual sua comida favorita ? \"))\n",
        "idade = int(input(\"Insira sua idade: \"))"
      ]
    },
    {
      "cell_type": "markdown",
      "id": "3c38647c",
      "metadata": {
        "id": "3c38647c"
      },
      "source": [
        "Questão 8:Faça um programa que leia um número inteiro e mostre seu sucessor e seu antecessor."
      ]
    },
    {
      "cell_type": "code",
      "execution_count": null,
      "id": "c35fd4bb",
      "metadata": {
        "id": "c35fd4bb",
        "colab": {
          "base_uri": "https://localhost:8080/"
        },
        "outputId": "b4e0c5d9-1c03-44ce-f618-ccf7413b7664"
      },
      "outputs": [
        {
          "output_type": "stream",
          "name": "stdout",
          "text": [
            "Insira um número: 9\n",
            "Aqui estão o números: 9, 10, 8\n"
          ]
        }
      ],
      "source": [
        "# RESPOSTA AQUI\n",
        "\n",
        "num1 = int(input(\"Insira um número: \"))\n",
        "num2 = num1 + 1\n",
        "num3 = num1 - 1\n",
        "\n",
        "print(f\"Aqui estão o números: {num1}, {num2}, {num3}\")"
      ]
    },
    {
      "cell_type": "markdown",
      "id": "2f2cf42c",
      "metadata": {
        "id": "2f2cf42c"
      },
      "source": [
        "Questão 9: Escreva um programa que calcule a quantidade de latas de tintas\n",
        "necessárias e o custo para pintar tanques cilíndricos de combustível,\n",
        "em que são fornecidos a altura e o raio desse cilindro. Sabe-se que a\n",
        "lata de tinta custa R$50,00; cada lata contém 5 litros e cada litro de\n",
        "tinta pinta 3 m2\n",
        "Area do Cilindro = 2.pi.r.(h+r)(área lateral e as 2 bases)(considere pi=3)\n"
      ]
    },
    {
      "cell_type": "code",
      "execution_count": 9,
      "id": "0fba5eed",
      "metadata": {
        "id": "0fba5eed",
        "colab": {
          "base_uri": "https://localhost:8080/"
        },
        "outputId": "f6721696-6262-49a1-e0c3-4b7da745efd7"
      },
      "outputs": [
        {
          "output_type": "stream",
          "name": "stdout",
          "text": [
            "Insirta a altura do tanque em metros: 4\n",
            "Insira o raio do tanque em metros: 2\n",
            "Quantidade de Latas necessária será de: 12\n",
            "O Custo total será de: R$600\n"
          ]
        }
      ],
      "source": [
        "# RESPOSTA AQUI\n",
        "import math\n",
        "\n",
        "pi = 3\n",
        "\n",
        "precoLata = 50\n",
        "capacidadeLata = 5\n",
        "\n",
        "altura = float(input(\"Insirta a altura do tanque em metros: \"))\n",
        "raio = float(input(\"Insira o raio do tanque em metros: \"))\n",
        "\n",
        "areaLateral = 2 * pi * raio * (altura + raio)\n",
        "\n",
        "areaTotal = 2 * areaLateral + 2 * pi * (raio ** 2)\n",
        "\n",
        "quantidadeLitros = areaTotal / 3\n",
        "\n",
        "quantidadeLatas = math.ceil(quantidadeLitros / capacidadeLata)\n",
        "\n",
        "custo = quantidadeLatas * precoLata\n",
        "\n",
        "print(f\"Quantidade de Latas necessária será de: {quantidadeLatas}\")\n",
        "print(f\"O Custo total será de: R${custo}\")"
      ]
    },
    {
      "cell_type": "markdown",
      "id": "6ce3458e",
      "metadata": {
        "id": "6ce3458e"
      },
      "source": [
        "Questão 10: Escreva um programa que peça para o usuário inserir a quantidade de dias que ele irá viajar com o carro e a quantidade de km que ele irá percorrer. Calcule o quanto ele irá pagar, sabendo que o preço por dia de aluguel é 85 reais e 0,35 centavos por km rodado."
      ]
    },
    {
      "cell_type": "code",
      "execution_count": null,
      "id": "c3adc408",
      "metadata": {
        "id": "c3adc408",
        "colab": {
          "base_uri": "https://localhost:8080/"
        },
        "outputId": "d567b911-1389-493d-ebe9-4cd0176ffab3"
      },
      "outputs": [
        {
          "output_type": "stream",
          "name": "stdout",
          "text": [
            "Quantos Dias você irá viajar? 7\n",
            "Quantos KMs serão percorridos? 500\n",
            "O seu gasto total será de R$770.0, sendo R$595 de aluguel do carro e R$175.0 pela kilometragem \n"
          ]
        }
      ],
      "source": [
        "# RESPOSTA AQUI\n",
        "\n",
        "dias = int(input(\"Quantos Dias você irá viajar? \"))\n",
        "kms = int(input(\"Quantos KMs serão percorridos? \"))\n",
        "\n",
        "valorDias = dias * 85\n",
        "valorKms = kms * 0.35\n",
        "\n",
        "valorTotal = valorDias + valorKms\n",
        "\n",
        "print(f\"O seu gasto total será de R${valorTotal}, sendo R${valorDias} de aluguel do carro e R${valorKms} pela kilometragem \")"
      ]
    },
    {
      "cell_type": "markdown",
      "id": "0376787d",
      "metadata": {
        "id": "0376787d"
      },
      "source": [
        "Questão 11: Escreva um programa que leia um número que exiba sua parte inteira."
      ]
    },
    {
      "cell_type": "code",
      "execution_count": null,
      "id": "d1d48d68",
      "metadata": {
        "id": "d1d48d68",
        "colab": {
          "base_uri": "https://localhost:8080/"
        },
        "outputId": "7ef0b899-ef04-4f43-95b9-77606c63d156"
      },
      "outputs": [
        {
          "output_type": "stream",
          "name": "stdout",
          "text": [
            "Digite um número: 11842.2148\n",
            "A parte inteira do número 11842.2148 é 11842\n"
          ]
        }
      ],
      "source": [
        "# RESPOSTA AQUI\n",
        "\n",
        "numeroL = float(input(\"Digite um número: \"))\n",
        "\n",
        "parteInteira = int(numeroL)\n",
        "\n",
        "print(f\"A parte inteira do número {numeroL} é {parteInteira}\")"
      ]
    },
    {
      "cell_type": "markdown",
      "id": "9aeddde4",
      "metadata": {
        "id": "9aeddde4"
      },
      "source": [
        "Questão 12: Encontre o tipo das seguintes variáveis, usando a função type(). Imprima o resultado com print(f.\n",
        "Amanda\n",
        "12\n",
        "12.4\n"
      ]
    },
    {
      "cell_type": "code",
      "execution_count": null,
      "id": "e2f0adfb",
      "metadata": {
        "id": "e2f0adfb",
        "colab": {
          "base_uri": "https://localhost:8080/"
        },
        "outputId": "f4ad0fc3-ea95-4cce-a3ae-a0db72736837"
      },
      "outputs": [
        {
          "output_type": "stream",
          "name": "stdout",
          "text": [
            "O Tipo da variável A é <class 'str'>\n",
            " O Tipo da variável B é <class 'int'>\n",
            " O Tipo da variável C é <class 'float'>\n"
          ]
        }
      ],
      "source": [
        "# RESPOSTA AQUI\n",
        "\n",
        "varA = \"Amanda\"\n",
        "varB = 12\n",
        "varC = 12.4\n",
        "\n",
        "tipoA = type(varA)\n",
        "tipoB = type(varB)\n",
        "tipoC = type(varC)\n",
        "\n",
        "print(f\"O Tipo da variável A é {tipoA}\")\n",
        "print(f\" O Tipo da variável B é {tipoB}\")\n",
        "print(f\" O Tipo da variável C é {tipoC}\")"
      ]
    },
    {
      "cell_type": "markdown",
      "id": "327493cd",
      "metadata": {
        "id": "327493cd"
      },
      "source": [
        "Questão 13:Você vai fazer intercâmbio nos Eua, e quer saber se você tem que levar muitas roupas de frio.\n",
        "\n",
        "a)então precisa fazer um conversor de temperatura de fahrenheit para celsius\n"
      ]
    },
    {
      "cell_type": "code",
      "execution_count": null,
      "id": "80645449",
      "metadata": {
        "id": "80645449",
        "colab": {
          "base_uri": "https://localhost:8080/"
        },
        "outputId": "6a754868-d0d1-46b0-8f16-f2476966157b"
      },
      "outputs": [
        {
          "output_type": "stream",
          "name": "stdout",
          "text": [
            "Insira a temperatura em Celsius: 0\n",
            "A temperatura 0.0°C em Fahrenheit é de 32.0°F\n"
          ]
        }
      ],
      "source": [
        "# RESPOSTA AQUI\n",
        "\n",
        "tempC = float(input(\"Insira a temperatura em Celsius: \"))\n",
        "tempF = (tempC * 1.8) + 32\n",
        "\n",
        "print(f\"A temperatura {tempC}°C em Fahrenheit é de {tempF}°F\")"
      ]
    },
    {
      "cell_type": "markdown",
      "id": "fa24c31f",
      "metadata": {
        "id": "fa24c31f"
      },
      "source": [
        "b)Agora, suponha que a temperatura convertida é um número com vírgula, arredonde ele com a função round."
      ]
    },
    {
      "cell_type": "code",
      "execution_count": null,
      "id": "b170cf6c",
      "metadata": {
        "id": "b170cf6c",
        "colab": {
          "base_uri": "https://localhost:8080/"
        },
        "outputId": "a0c212b0-d12e-4ad3-a877-9ff695dca4b8"
      },
      "outputs": [
        {
          "output_type": "stream",
          "name": "stdout",
          "text": [
            "Insira a temperatura em Celsius: 74\n",
            "A temperatura 74.0°C em Fahrenheit é de 165°F\n"
          ]
        }
      ],
      "source": [
        "# RESPOSTA AQUI\n",
        "tempC = float(input(\"Insira a temperatura em Celsius: \"))\n",
        "tempF = (tempC * 1.8) + 32\n",
        "\n",
        "print(f\"A temperatura {tempC}°C em Fahrenheit é de {round(tempF)}°F\")"
      ]
    },
    {
      "cell_type": "markdown",
      "id": "60427fa0",
      "metadata": {
        "id": "60427fa0"
      },
      "source": [
        "Questão 14: Faça um programa que mostre se a cidade inserida começa com \"SANTO\" ou não.\n",
        "    "
      ]
    },
    {
      "cell_type": "code",
      "execution_count": null,
      "id": "1e269cd1",
      "metadata": {
        "id": "1e269cd1",
        "colab": {
          "base_uri": "https://localhost:8080/"
        },
        "outputId": "deb8e965-eab1-44f2-889f-0e0722a096a1"
      },
      "outputs": [
        {
          "output_type": "stream",
          "name": "stdout",
          "text": [
            "Digite o nome da cidade: Recife\n",
            "O nome da cidade não começa com SANTO.\n"
          ]
        }
      ],
      "source": [
        "# RESPOSTA AQUI\n",
        "nomeCidade = input(\"Digite o nome da cidade: \")\n",
        "\n",
        "if nomeCidade[:5].upper() == \"SANTO\":\n",
        "    print(\"O nome da cidade começa com SANTO.\")\n",
        "else:\n",
        "    print(\"O nome da cidade não começa com SANTO.\")"
      ]
    },
    {
      "cell_type": "markdown",
      "id": "4fa1e207",
      "metadata": {
        "id": "4fa1e207"
      },
      "source": [
        "Questão 15:Escreva um programa que leia o nome completo de uma pessoa e mostre:\n",
        "        -O nome com todas as letras maiúsculas e minúsculas\n",
        "        -Quantas letras ao todo sem contar os espaços\n",
        "        -Quantas letras tem o primeiro nome"
      ]
    },
    {
      "cell_type": "code",
      "execution_count": 1,
      "id": "e1bb43cb",
      "metadata": {
        "id": "e1bb43cb",
        "colab": {
          "base_uri": "https://localhost:8080/"
        },
        "outputId": "9dcd7e6f-87a1-4317-9e8e-b5ade2c16d3f"
      },
      "outputs": [
        {
          "output_type": "stream",
          "name": "stdout",
          "text": [
            "Digite seu nome completo: Shiryu de Dragão\n",
            "Nome em Maiúsculo: SHIRYU DE DRAGÃO\n",
            "Nome em Minúsculo: shiryu de dragão\n",
            "Quantidade de Letras no Nome (desconsiderando espaços): 14 \n",
            "Quantidade de Letras do Primeiro Nome: 6\n"
          ]
        }
      ],
      "source": [
        "# RESPOSTA AQUI\n",
        "\n",
        "nomeCompleto = input(\"Digite seu nome completo: \")\n",
        "\n",
        "nomeMaiusculo = nomeCompleto.upper()\n",
        "nomeMinusculo = nomeCompleto.lower()\n",
        "\n",
        "quantidadeLetras = len(nomeCompleto.replace(\" \", \"\"))\n",
        "primeiroNome = nomeCompleto.split()[0]\n",
        "quantidadeLetrasPnome = len(primeiroNome)\n",
        "\n",
        "print(f\"Nome em Maiúsculo: {nomeMaiusculo}\")\n",
        "print(f\"Nome em Minúsculo: {nomeMinusculo}\")\n",
        "print(f\"Quantidade de Letras no Nome (desconsiderando espaços): {quantidadeLetras} \")\n",
        "print(f\"Quantidade de Letras do Primeiro Nome: {quantidadeLetrasPnome}\")"
      ]
    },
    {
      "cell_type": "markdown",
      "id": "2094f174",
      "metadata": {
        "id": "2094f174"
      },
      "source": [
        "Questão 16: Você quer achar seus parentes da família \"Soares\". Então, faça um programa que detecte se o nome inserido é da sua família."
      ]
    },
    {
      "cell_type": "code",
      "execution_count": 2,
      "id": "4618ae4a",
      "metadata": {
        "id": "4618ae4a",
        "colab": {
          "base_uri": "https://localhost:8080/"
        },
        "outputId": "7a773919-dc4a-443c-9132-adc7e0f7178a"
      },
      "outputs": [
        {
          "output_type": "stream",
          "name": "stdout",
          "text": [
            "Digite seu nome completo: Hugo Almeida dos Santos\n",
            "Você não é da Família Soares '-'\n"
          ]
        }
      ],
      "source": [
        "# RESPOSTA AQUI\n",
        "\n",
        "nomeCompleto = input(\"Digite seu nome completo: \")\n",
        "\n",
        "if \"Soares\" in nomeCompleto:\n",
        "  print(\"Você é da família Soares\")\n",
        "else:\n",
        "  print(\"Você não é da Família Soares '-'\")"
      ]
    },
    {
      "cell_type": "markdown",
      "id": "80d66cd3",
      "metadata": {
        "id": "80d66cd3"
      },
      "source": [
        "Questão 17:Você está indo para o interusp, e está fazendo a lista dos 5 objetos mais importantes:bota,protetor-solar,camisinha,shorts e desodorante.\n",
        "a)Você se lembrou que as tattoos são mais importantes que o proteto-solar. Retire o protetor da lista e adicione as tattoos."
      ]
    },
    {
      "cell_type": "code",
      "execution_count": 3,
      "id": "9781c566",
      "metadata": {
        "id": "9781c566"
      },
      "outputs": [],
      "source": [
        "# RESPOSTA AQUI\n",
        "objetos = ['bota', 'protetor-solar', 'camisinha', 'shorts', 'desodorante']\n",
        "\n",
        "objetos.remove('protetor-solar')\n",
        "objetos.append('tattoos')"
      ]
    },
    {
      "cell_type": "markdown",
      "id": "d38c2ac4",
      "metadata": {
        "id": "d38c2ac4"
      },
      "source": [
        "b)Além disso, você gosta de listas organizadas por ordem alfabética, coloque-as como tal, e imprima o índice do item 'desodorante'."
      ]
    },
    {
      "cell_type": "code",
      "execution_count": 4,
      "id": "b8f866f2",
      "metadata": {
        "id": "b8f866f2",
        "colab": {
          "base_uri": "https://localhost:8080/"
        },
        "outputId": "a94b3213-6f9c-4a87-f91f-a7a2f6d14acc"
      },
      "outputs": [
        {
          "output_type": "stream",
          "name": "stdout",
          "text": [
            "Lista dos objetos mais importantes (em ordem alfabética):\n",
            "1. bota\n",
            "2. camisinha\n",
            "3. desodorante\n",
            "4. shorts\n",
            "5. tattoos\n",
            "O índice do item 'desodorante' na lista é: 3\n"
          ]
        }
      ],
      "source": [
        "# RESPOSTA AQUI\n",
        "\n",
        "objetos.sort()\n",
        "\n",
        "print(\"Lista dos objetos mais importantes (em ordem alfabética):\")\n",
        "for index, item in enumerate(objetos):\n",
        "    print(f\"{index + 1}. {item}\")\n",
        "\n",
        "indiceDesodorante = objetos.index('desodorante')\n",
        "print(f\"O índice do item 'desodorante' na lista é: {indiceDesodorante + 1}\")"
      ]
    },
    {
      "cell_type": "markdown",
      "id": "97eaf882",
      "metadata": {
        "id": "97eaf882"
      },
      "source": [
        "Questão 18:Chegou o final do semestre e você tem suas notas 7,9.5,8.0,2.0,1.0,3.0. Imprima sua nota máxima, mínima e a soma delas."
      ]
    },
    {
      "cell_type": "code",
      "execution_count": 5,
      "id": "4adec086",
      "metadata": {
        "id": "4adec086",
        "colab": {
          "base_uri": "https://localhost:8080/"
        },
        "outputId": "ebe78a42-facf-454d-b495-d2a11cf2c949"
      },
      "outputs": [
        {
          "output_type": "stream",
          "name": "stdout",
          "text": [
            "A maior nota é: 9.5\n",
            "A menor nota é: 1.0\n",
            "A soma das notas é: 30.5\n"
          ]
        }
      ],
      "source": [
        "# RESPOSTA AQUI\n",
        "notas = [7.0, 9.5, 8.0, 2.0, 1.0, 3.0]\n",
        "\n",
        "notaMaxima = max(notas)\n",
        "notaMinima = min(notas)\n",
        "somaNotas = sum(notas)\n",
        "\n",
        "print(f\"A maior nota é: {notaMaxima}\")\n",
        "print(f\"A menor nota é: {notaMinima}\")\n",
        "print(f\"A soma das notas é: {somaNotas}\")"
      ]
    },
    {
      "cell_type": "markdown",
      "id": "5205ead5",
      "metadata": {
        "id": "5205ead5"
      },
      "source": [
        "Questão 19: Chegando a Copa do mundo, é importante saber as 10 melhores seleções do mundo rankeadas pela FIFA:\n",
        "'Brasil','Belgica','Argentina','França','Iglaterra','Italia','Holanda','Espanha','Portugal','Alemanha'.Sabendo disso, extraia:\n",
        "        a)Os 2 primeiros colocados\n",
        "        b)os últimos 4 colocados\n",
        "        c)Em que posição está o nosso rival 'Argentina'"
      ]
    },
    {
      "cell_type": "code",
      "execution_count": 6,
      "id": "7aeed7e6",
      "metadata": {
        "id": "7aeed7e6",
        "colab": {
          "base_uri": "https://localhost:8080/"
        },
        "outputId": "bed9ba5a-e7be-479f-e700-8dbf9d6a1895"
      },
      "outputs": [
        {
          "output_type": "stream",
          "name": "stdout",
          "text": [
            "Os 2 primeiros colocados: ['Brasil', 'Belgica']\n",
            "Os últimos 4 colocados: ['Holanda', 'Espanha', 'Portugal', 'Alemanha']\n",
            "Posição da Argentina: 3\n"
          ]
        }
      ],
      "source": [
        "# RESPOSTA AQUI\n",
        "selecoes = ['Brasil', 'Belgica', 'Argentina', 'França', 'Inglaterra', 'Italia', 'Holanda', 'Espanha', 'Portugal', 'Alemanha']\n",
        "\n",
        "doisPrimeiros = selecoes[:2]\n",
        "ultimosQuatro = selecoes[-4:]\n",
        "\n",
        "posicaoArgentina = selecoes.index('Argentina') + 1\n",
        "\n",
        "print(\"Os 2 primeiros colocados:\", doisPrimeiros)\n",
        "print(\"Os últimos 4 colocados:\", ultimosQuatro)\n",
        "print(\"Posição da Argentina:\", posicaoArgentina)"
      ]
    },
    {
      "cell_type": "markdown",
      "id": "7990e715",
      "metadata": {
        "id": "7990e715"
      },
      "source": [
        "Questão 20:Faça um dicionário com os seguintes dados cadastrais dos alunos da Usp\n",
        "    Nome - Juliano\n",
        "    idade - 20 anos\n",
        "    Instituto - ECA\n",
        "    "
      ]
    },
    {
      "cell_type": "code",
      "execution_count": 7,
      "id": "66c3bc17",
      "metadata": {
        "id": "66c3bc17",
        "colab": {
          "base_uri": "https://localhost:8080/"
        },
        "outputId": "a5e9328b-ac85-4536-8792-1257f8f41e9b"
      },
      "outputs": [
        {
          "output_type": "stream",
          "name": "stdout",
          "text": [
            "{'Nome': 'Juliano', 'Idade': 20, 'Instituto': 'ECA'}\n"
          ]
        }
      ],
      "source": [
        "# RESPOSTA AQUI\n",
        "alunoUsp = {\n",
        "    'Nome': 'Juliano',\n",
        "    'Idade': 20,\n",
        "    'Instituto': 'ECA'\n",
        "}\n",
        "\n",
        "print(alunoUsp)"
      ]
    },
    {
      "cell_type": "markdown",
      "id": "9f98d738",
      "metadata": {
        "id": "9f98d738"
      },
      "source": [
        "b) Agora você vai precisar fazer algumas alterações\n",
        "    1. Mude o nome de Juliano para Pedro\n",
        "    2.Adicione mais um campo 'Ano de ingresso - 2019'\n",
        "    3.Imprima só o ano de ingresso do aluno(só o valor)\n",
        "    4.Imprima todo o dicionário"
      ]
    },
    {
      "cell_type": "code",
      "execution_count": 8,
      "id": "b33a6987",
      "metadata": {
        "id": "b33a6987",
        "colab": {
          "base_uri": "https://localhost:8080/"
        },
        "outputId": "63462cd7-2b8a-426d-a742-7e33682a4ad1"
      },
      "outputs": [
        {
          "output_type": "stream",
          "name": "stdout",
          "text": [
            "Ano de ingresso do aluno: 2019\n",
            "Dicionário completo do aluno:\n",
            "{'Nome': 'Pedro', 'Idade': 20, 'Instituto': 'ECA', 'Ano de ingresso': 2019}\n"
          ]
        }
      ],
      "source": [
        "# RESPOSTA AQUI\n",
        "\n",
        "alunoUsp = {\n",
        "    'Nome': 'Pedro',\n",
        "    'Idade': 20,\n",
        "    'Instituto': 'ECA',\n",
        "    'Ano de ingresso': 2019\n",
        "}\n",
        "\n",
        "print(\"Ano de ingresso do aluno:\", alunoUsp['Ano de ingresso'])\n",
        "\n",
        "print(\"Dicionário completo do aluno:\")\n",
        "print(alunoUsp)"
      ]
    }
  ],
  "metadata": {
    "kernelspec": {
      "display_name": "Python 3 (ipykernel)",
      "language": "python",
      "name": "python3"
    },
    "language_info": {
      "codemirror_mode": {
        "name": "ipython",
        "version": 3
      },
      "file_extension": ".py",
      "mimetype": "text/x-python",
      "name": "python",
      "nbconvert_exporter": "python",
      "pygments_lexer": "ipython3",
      "version": "3.9.12"
    },
    "colab": {
      "provenance": [],
      "include_colab_link": true
    }
  },
  "nbformat": 4,
  "nbformat_minor": 5
}
