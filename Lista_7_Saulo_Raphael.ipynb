{
  "cells": [
    {
      "cell_type": "markdown",
      "metadata": {
        "id": "view-in-github",
        "colab_type": "text"
      },
      "source": [
        "<a href=\"https://colab.research.google.com/github/Saulo-Ferraz/PythonCodes/blob/main/Lista_7_Saulo_Raphael.ipynb\" target=\"_parent\"><img src=\"https://colab.research.google.com/assets/colab-badge.svg\" alt=\"Open In Colab\"/></a>"
      ]
    },
    {
      "cell_type": "code",
      "execution_count": null,
      "metadata": {
        "id": "lDilBXvGpCiI"
      },
      "outputs": [],
      "source": [
        "#Create a virtual env: py -3 -m venv .venv\n",
        "#Activate virtual env: .venv\\scripts\\activate\n",
        "#Install libraries on virtual env: python -m pip install matplotlib"
      ]
    },
    {
      "cell_type": "code",
      "execution_count": null,
      "metadata": {
        "id": "xJC-vwqbpCiJ"
      },
      "outputs": [],
      "source": [
        "import pandas as pd\n",
        "import numpy as np\n",
        "import os"
      ]
    },
    {
      "cell_type": "markdown",
      "metadata": {
        "id": "CcTm-QXBpCiK"
      },
      "source": [
        "Para responder os exercícios a seguir, utilize os dados fornecidos na planilha \"Bilateral_Country_Shares_govt_nationality_full.csv\""
      ]
    },
    {
      "cell_type": "code",
      "execution_count": null,
      "metadata": {
        "colab": {
          "base_uri": "https://localhost:8080/",
          "height": 206
        },
        "id": "xG9W8o8HpCiN",
        "outputId": "1bc9333f-f62e-464b-9c0f-1af1677d713b"
      },
      "outputs": [
        {
          "data": {
            "application/vnd.google.colaboratory.intrinsic+json": {
              "summary": "{\n  \"name\": \"shares_gov\",\n  \"rows\": 2392,\n  \"fields\": [\n    {\n      \"column\": \"year\",\n      \"properties\": {\n        \"dtype\": \"number\",\n        \"std\": 3,\n        \"min\": 2005,\n        \"max\": 2017,\n        \"num_unique_values\": 13,\n        \"samples\": [\n          2006,\n          2008,\n          2017\n        ],\n        \"semantic_type\": \"\",\n        \"description\": \"\"\n      }\n    },\n    {\n      \"column\": \"investor_name\",\n      \"properties\": {\n        \"dtype\": \"category\",\n        \"num_unique_values\": 9,\n        \"samples\": [\n          \"United Kingdom\",\n          \"Canada\",\n          \"Sweden\"\n        ],\n        \"semantic_type\": \"\",\n        \"description\": \"\"\n      }\n    },\n    {\n      \"column\": \"investor\",\n      \"properties\": {\n        \"dtype\": \"category\",\n        \"num_unique_values\": 9,\n        \"samples\": [\n          \"GBR\",\n          \"CAN\",\n          \"SWE\"\n        ],\n        \"semantic_type\": \"\",\n        \"description\": \"\"\n      }\n    },\n    {\n      \"column\": \"issuer_nationality_name\",\n      \"properties\": {\n        \"dtype\": \"category\",\n        \"num_unique_values\": 65,\n        \"samples\": [\n          \"Croatia\",\n          \"Qatar\",\n          \"Argentina\"\n        ],\n        \"semantic_type\": \"\",\n        \"description\": \"\"\n      }\n    },\n    {\n      \"column\": \"issuer_nationality\",\n      \"properties\": {\n        \"dtype\": \"category\",\n        \"num_unique_values\": 65,\n        \"samples\": [\n          \"HRV\",\n          \"QAT\",\n          \"ARG\"\n        ],\n        \"semantic_type\": \"\",\n        \"description\": \"\"\n      }\n    },\n    {\n      \"column\": \"portfolio_share\",\n      \"properties\": {\n        \"dtype\": \"number\",\n        \"std\": 0.1511399731830547,\n        \"min\": 2.24e-06,\n        \"max\": 0.9716287,\n        \"num_unique_values\": 2382,\n        \"samples\": [\n          0.0022157,\n          0.0808432,\n          0.9450822\n        ],\n        \"semantic_type\": \"\",\n        \"description\": \"\"\n      }\n    }\n  ]\n}",
              "type": "dataframe",
              "variable_name": "shares_gov"
            },
            "text/html": [
              "\n",
              "  <div id=\"df-ebbec301-fc20-47ab-9c0f-eb566e944086\" class=\"colab-df-container\">\n",
              "    <div>\n",
              "<style scoped>\n",
              "    .dataframe tbody tr th:only-of-type {\n",
              "        vertical-align: middle;\n",
              "    }\n",
              "\n",
              "    .dataframe tbody tr th {\n",
              "        vertical-align: top;\n",
              "    }\n",
              "\n",
              "    .dataframe thead th {\n",
              "        text-align: right;\n",
              "    }\n",
              "</style>\n",
              "<table border=\"1\" class=\"dataframe\">\n",
              "  <thead>\n",
              "    <tr style=\"text-align: right;\">\n",
              "      <th></th>\n",
              "      <th>year</th>\n",
              "      <th>investor_name</th>\n",
              "      <th>investor</th>\n",
              "      <th>issuer_nationality_name</th>\n",
              "      <th>issuer_nationality</th>\n",
              "      <th>portfolio_share</th>\n",
              "    </tr>\n",
              "  </thead>\n",
              "  <tbody>\n",
              "    <tr>\n",
              "      <th>0</th>\n",
              "      <td>2017</td>\n",
              "      <td>Australia</td>\n",
              "      <td>AUS</td>\n",
              "      <td>Argentina</td>\n",
              "      <td>ARG</td>\n",
              "      <td>0.009804</td>\n",
              "    </tr>\n",
              "    <tr>\n",
              "      <th>1</th>\n",
              "      <td>2017</td>\n",
              "      <td>Australia</td>\n",
              "      <td>AUS</td>\n",
              "      <td>Australia</td>\n",
              "      <td>AUS</td>\n",
              "      <td>0.278169</td>\n",
              "    </tr>\n",
              "    <tr>\n",
              "      <th>2</th>\n",
              "      <td>2017</td>\n",
              "      <td>Australia</td>\n",
              "      <td>AUS</td>\n",
              "      <td>Brazil</td>\n",
              "      <td>BRA</td>\n",
              "      <td>0.011028</td>\n",
              "    </tr>\n",
              "    <tr>\n",
              "      <th>3</th>\n",
              "      <td>2017</td>\n",
              "      <td>Australia</td>\n",
              "      <td>AUS</td>\n",
              "      <td>Canada</td>\n",
              "      <td>CAN</td>\n",
              "      <td>0.042183</td>\n",
              "    </tr>\n",
              "    <tr>\n",
              "      <th>4</th>\n",
              "      <td>2017</td>\n",
              "      <td>Australia</td>\n",
              "      <td>AUS</td>\n",
              "      <td>European Monetary Union</td>\n",
              "      <td>EMU</td>\n",
              "      <td>0.140563</td>\n",
              "    </tr>\n",
              "  </tbody>\n",
              "</table>\n",
              "</div>\n",
              "    <div class=\"colab-df-buttons\">\n",
              "\n",
              "  <div class=\"colab-df-container\">\n",
              "    <button class=\"colab-df-convert\" onclick=\"convertToInteractive('df-ebbec301-fc20-47ab-9c0f-eb566e944086')\"\n",
              "            title=\"Convert this dataframe to an interactive table.\"\n",
              "            style=\"display:none;\">\n",
              "\n",
              "  <svg xmlns=\"http://www.w3.org/2000/svg\" height=\"24px\" viewBox=\"0 -960 960 960\">\n",
              "    <path d=\"M120-120v-720h720v720H120Zm60-500h600v-160H180v160Zm220 220h160v-160H400v160Zm0 220h160v-160H400v160ZM180-400h160v-160H180v160Zm440 0h160v-160H620v160ZM180-180h160v-160H180v160Zm440 0h160v-160H620v160Z\"/>\n",
              "  </svg>\n",
              "    </button>\n",
              "\n",
              "  <style>\n",
              "    .colab-df-container {\n",
              "      display:flex;\n",
              "      gap: 12px;\n",
              "    }\n",
              "\n",
              "    .colab-df-convert {\n",
              "      background-color: #E8F0FE;\n",
              "      border: none;\n",
              "      border-radius: 50%;\n",
              "      cursor: pointer;\n",
              "      display: none;\n",
              "      fill: #1967D2;\n",
              "      height: 32px;\n",
              "      padding: 0 0 0 0;\n",
              "      width: 32px;\n",
              "    }\n",
              "\n",
              "    .colab-df-convert:hover {\n",
              "      background-color: #E2EBFA;\n",
              "      box-shadow: 0px 1px 2px rgba(60, 64, 67, 0.3), 0px 1px 3px 1px rgba(60, 64, 67, 0.15);\n",
              "      fill: #174EA6;\n",
              "    }\n",
              "\n",
              "    .colab-df-buttons div {\n",
              "      margin-bottom: 4px;\n",
              "    }\n",
              "\n",
              "    [theme=dark] .colab-df-convert {\n",
              "      background-color: #3B4455;\n",
              "      fill: #D2E3FC;\n",
              "    }\n",
              "\n",
              "    [theme=dark] .colab-df-convert:hover {\n",
              "      background-color: #434B5C;\n",
              "      box-shadow: 0px 1px 3px 1px rgba(0, 0, 0, 0.15);\n",
              "      filter: drop-shadow(0px 1px 2px rgba(0, 0, 0, 0.3));\n",
              "      fill: #FFFFFF;\n",
              "    }\n",
              "  </style>\n",
              "\n",
              "    <script>\n",
              "      const buttonEl =\n",
              "        document.querySelector('#df-ebbec301-fc20-47ab-9c0f-eb566e944086 button.colab-df-convert');\n",
              "      buttonEl.style.display =\n",
              "        google.colab.kernel.accessAllowed ? 'block' : 'none';\n",
              "\n",
              "      async function convertToInteractive(key) {\n",
              "        const element = document.querySelector('#df-ebbec301-fc20-47ab-9c0f-eb566e944086');\n",
              "        const dataTable =\n",
              "          await google.colab.kernel.invokeFunction('convertToInteractive',\n",
              "                                                    [key], {});\n",
              "        if (!dataTable) return;\n",
              "\n",
              "        const docLinkHtml = 'Like what you see? Visit the ' +\n",
              "          '<a target=\"_blank\" href=https://colab.research.google.com/notebooks/data_table.ipynb>data table notebook</a>'\n",
              "          + ' to learn more about interactive tables.';\n",
              "        element.innerHTML = '';\n",
              "        dataTable['output_type'] = 'display_data';\n",
              "        await google.colab.output.renderOutput(dataTable, element);\n",
              "        const docLink = document.createElement('div');\n",
              "        docLink.innerHTML = docLinkHtml;\n",
              "        element.appendChild(docLink);\n",
              "      }\n",
              "    </script>\n",
              "  </div>\n",
              "\n",
              "\n",
              "<div id=\"df-7f3671e2-f53e-417b-b2d4-c04729a899d9\">\n",
              "  <button class=\"colab-df-quickchart\" onclick=\"quickchart('df-7f3671e2-f53e-417b-b2d4-c04729a899d9')\"\n",
              "            title=\"Suggest charts\"\n",
              "            style=\"display:none;\">\n",
              "\n",
              "<svg xmlns=\"http://www.w3.org/2000/svg\" height=\"24px\"viewBox=\"0 0 24 24\"\n",
              "     width=\"24px\">\n",
              "    <g>\n",
              "        <path d=\"M19 3H5c-1.1 0-2 .9-2 2v14c0 1.1.9 2 2 2h14c1.1 0 2-.9 2-2V5c0-1.1-.9-2-2-2zM9 17H7v-7h2v7zm4 0h-2V7h2v10zm4 0h-2v-4h2v4z\"/>\n",
              "    </g>\n",
              "</svg>\n",
              "  </button>\n",
              "\n",
              "<style>\n",
              "  .colab-df-quickchart {\n",
              "      --bg-color: #E8F0FE;\n",
              "      --fill-color: #1967D2;\n",
              "      --hover-bg-color: #E2EBFA;\n",
              "      --hover-fill-color: #174EA6;\n",
              "      --disabled-fill-color: #AAA;\n",
              "      --disabled-bg-color: #DDD;\n",
              "  }\n",
              "\n",
              "  [theme=dark] .colab-df-quickchart {\n",
              "      --bg-color: #3B4455;\n",
              "      --fill-color: #D2E3FC;\n",
              "      --hover-bg-color: #434B5C;\n",
              "      --hover-fill-color: #FFFFFF;\n",
              "      --disabled-bg-color: #3B4455;\n",
              "      --disabled-fill-color: #666;\n",
              "  }\n",
              "\n",
              "  .colab-df-quickchart {\n",
              "    background-color: var(--bg-color);\n",
              "    border: none;\n",
              "    border-radius: 50%;\n",
              "    cursor: pointer;\n",
              "    display: none;\n",
              "    fill: var(--fill-color);\n",
              "    height: 32px;\n",
              "    padding: 0;\n",
              "    width: 32px;\n",
              "  }\n",
              "\n",
              "  .colab-df-quickchart:hover {\n",
              "    background-color: var(--hover-bg-color);\n",
              "    box-shadow: 0 1px 2px rgba(60, 64, 67, 0.3), 0 1px 3px 1px rgba(60, 64, 67, 0.15);\n",
              "    fill: var(--button-hover-fill-color);\n",
              "  }\n",
              "\n",
              "  .colab-df-quickchart-complete:disabled,\n",
              "  .colab-df-quickchart-complete:disabled:hover {\n",
              "    background-color: var(--disabled-bg-color);\n",
              "    fill: var(--disabled-fill-color);\n",
              "    box-shadow: none;\n",
              "  }\n",
              "\n",
              "  .colab-df-spinner {\n",
              "    border: 2px solid var(--fill-color);\n",
              "    border-color: transparent;\n",
              "    border-bottom-color: var(--fill-color);\n",
              "    animation:\n",
              "      spin 1s steps(1) infinite;\n",
              "  }\n",
              "\n",
              "  @keyframes spin {\n",
              "    0% {\n",
              "      border-color: transparent;\n",
              "      border-bottom-color: var(--fill-color);\n",
              "      border-left-color: var(--fill-color);\n",
              "    }\n",
              "    20% {\n",
              "      border-color: transparent;\n",
              "      border-left-color: var(--fill-color);\n",
              "      border-top-color: var(--fill-color);\n",
              "    }\n",
              "    30% {\n",
              "      border-color: transparent;\n",
              "      border-left-color: var(--fill-color);\n",
              "      border-top-color: var(--fill-color);\n",
              "      border-right-color: var(--fill-color);\n",
              "    }\n",
              "    40% {\n",
              "      border-color: transparent;\n",
              "      border-right-color: var(--fill-color);\n",
              "      border-top-color: var(--fill-color);\n",
              "    }\n",
              "    60% {\n",
              "      border-color: transparent;\n",
              "      border-right-color: var(--fill-color);\n",
              "    }\n",
              "    80% {\n",
              "      border-color: transparent;\n",
              "      border-right-color: var(--fill-color);\n",
              "      border-bottom-color: var(--fill-color);\n",
              "    }\n",
              "    90% {\n",
              "      border-color: transparent;\n",
              "      border-bottom-color: var(--fill-color);\n",
              "    }\n",
              "  }\n",
              "</style>\n",
              "\n",
              "  <script>\n",
              "    async function quickchart(key) {\n",
              "      const quickchartButtonEl =\n",
              "        document.querySelector('#' + key + ' button');\n",
              "      quickchartButtonEl.disabled = true;  // To prevent multiple clicks.\n",
              "      quickchartButtonEl.classList.add('colab-df-spinner');\n",
              "      try {\n",
              "        const charts = await google.colab.kernel.invokeFunction(\n",
              "            'suggestCharts', [key], {});\n",
              "      } catch (error) {\n",
              "        console.error('Error during call to suggestCharts:', error);\n",
              "      }\n",
              "      quickchartButtonEl.classList.remove('colab-df-spinner');\n",
              "      quickchartButtonEl.classList.add('colab-df-quickchart-complete');\n",
              "    }\n",
              "    (() => {\n",
              "      let quickchartButtonEl =\n",
              "        document.querySelector('#df-7f3671e2-f53e-417b-b2d4-c04729a899d9 button');\n",
              "      quickchartButtonEl.style.display =\n",
              "        google.colab.kernel.accessAllowed ? 'block' : 'none';\n",
              "    })();\n",
              "  </script>\n",
              "</div>\n",
              "\n",
              "    </div>\n",
              "  </div>\n"
            ],
            "text/plain": [
              "   year investor_name investor  issuer_nationality_name issuer_nationality  \\\n",
              "0  2017     Australia      AUS                Argentina                ARG   \n",
              "1  2017     Australia      AUS                Australia                AUS   \n",
              "2  2017     Australia      AUS                   Brazil                BRA   \n",
              "3  2017     Australia      AUS                   Canada                CAN   \n",
              "4  2017     Australia      AUS  European Monetary Union                EMU   \n",
              "\n",
              "   portfolio_share  \n",
              "0         0.009804  \n",
              "1         0.278169  \n",
              "2         0.011028  \n",
              "3         0.042183  \n",
              "4         0.140563  "
            ]
          },
          "execution_count": 3,
          "metadata": {},
          "output_type": "execute_result"
        }
      ],
      "source": [
        "shares_gov = pd.read_csv('/content/Bilateral_Country_Shares_govt_nationality_full (1).csv')\n",
        "shares_gov.head(5)"
      ]
    },
    {
      "cell_type": "code",
      "execution_count": null,
      "metadata": {
        "colab": {
          "base_uri": "https://localhost:8080/"
        },
        "id": "L0kRSpFdtp9L",
        "outputId": "01253219-857b-43d4-fbc6-a4a9a9cd1d42"
      },
      "outputs": [
        {
          "data": {
            "text/plain": [
              "array(['year', 'investor_name', 'investor', 'issuer_nationality_name',\n",
              "       'issuer_nationality', 'portfolio_share'], dtype=object)"
            ]
          },
          "execution_count": 6,
          "metadata": {},
          "output_type": "execute_result"
        }
      ],
      "source": [
        "shares_gov.columns.values"
      ]
    },
    {
      "cell_type": "markdown",
      "metadata": {
        "id": "IictuxO1pCiN"
      },
      "source": [
        "1) Retorne em ordem crescente, os países que contem maior \"portfolio_share\" do Brasil nos anos de 2006, 2009 e 2013. Apresente um dataframe para cada ano mencionado (ou seja, 3 dataframes - 06', 09', 13'), contendo duas colunas: \"Nome do País\" e \"Porfolio Share\""
      ]
    },
    {
      "cell_type": "code",
      "execution_count": null,
      "metadata": {
        "colab": {
          "base_uri": "https://localhost:8080/"
        },
        "id": "UZve3ldIpCiO",
        "outputId": "9186448d-9aa7-4ea1-f06b-8581cad25e33"
      },
      "outputs": [
        {
          "name": "stdout",
          "output_type": "stream",
          "text": [
            "DataFrame 2006: \n",
            "\n",
            "                 Nome do País  Portfolio Share\n",
            "2112                  Denmark         0.052369\n",
            "2135  European Monetary Union         0.004932\n",
            "2222            United States         0.003399\n",
            "2206           United Kingdom         0.003057\n",
            "2097                   Canada         0.000880\n",
            "\n",
            "DataFrame 2009: \n",
            "\n",
            "                 Nome do País  Portfolio Share\n",
            "1635                  Denmark         0.050537\n",
            "1743           United Kingdom         0.007333\n",
            "1663  European Monetary Union         0.006835\n",
            "1599                Australia         0.005724\n",
            "1763            United States         0.004142\n",
            "1617                   Canada         0.001473\n",
            "\n",
            "DataFrame 2013: \n",
            "\n",
            "                Nome do País  Portfolio Share\n",
            "836                  Denmark         0.046965\n",
            "866  European Monetary Union         0.015231\n",
            "952           United Kingdom         0.007407\n",
            "972            United States         0.005876\n",
            "811                   Canada         0.004780\n"
          ]
        }
      ],
      "source": [
        "db_issuer = shares_gov[shares_gov[\"issuer_nationality\"]==\"BRA\"].query(\"year in (2006,2009, 2013)\")\n",
        "db_2013 = db_issuer[db_issuer['year']==2013].sort_values('portfolio_share',ascending = False)\n",
        "db_2009 = db_issuer[db_issuer['year']==2009].sort_values('portfolio_share',ascending = False)\n",
        "db_2006 = db_issuer[db_issuer['year']==2006].sort_values('portfolio_share',ascending = False)\n",
        "\n",
        "print(\"DataFrame 2006: \\n\")\n",
        "print(db_2006.rename(columns={'investor_name': 'Nome do País', 'portfolio_share': 'Portfolio Share'})[['Nome do País', 'Portfolio Share']])\n",
        "\n",
        "print(\"\\nDataFrame 2009: \\n\")\n",
        "print(db_2009.rename(columns={'investor_name': 'Nome do País', 'portfolio_share': 'Portfolio Share'})[['Nome do País', 'Portfolio Share']])\n",
        "\n",
        "print(\"\\nDataFrame 2013: \\n\")\n",
        "print(db_2013.rename(columns={'investor_name': 'Nome do País', 'portfolio_share': 'Portfolio Share'})[['Nome do País', 'Portfolio Share']])"
      ]
    },
    {
      "cell_type": "markdown",
      "metadata": {
        "id": "e9gBeLBSpCiP"
      },
      "source": [
        "2) É usual que os países se financiem por emissão de dívida interna, ou seja, que o país contenha um \"porfolio_share\" considerável dos seus próprios títulos relativo aos títulos de outros países. Exemplo, em 2017, ~ 27.8% da dívida nacional australiana era composta de títulos emitidos pelo próprio governo australiano. Indique no ano de 2014, qual dos países analisados possuía maior dívida interna?"
      ]
    },
    {
      "cell_type": "code",
      "execution_count": null,
      "metadata": {
        "colab": {
          "base_uri": "https://localhost:8080/"
        },
        "id": "LSx0NoSapCiP",
        "outputId": "8368a185-d3a7-44f8-cf13-3072f405d3c5"
      },
      "outputs": [
        {
          "name": "stdout",
          "output_type": "stream",
          "text": [
            "País com maior dívida interna em 2014: \n",
            "\n",
            "    investor  portfolio_share issuer_nationality_name\n",
            "737      CHE         0.272654             Switzerland\n"
          ]
        }
      ],
      "source": [
        "db_2014 = shares_gov[shares_gov[\"year\"]==2014]\n",
        "db_self_debt = db_2014[db_2014[\"investor\"] == db_2014[\"issuer_nationality\"]].sort_values(by='portfolio_share', ascending=True).head(1)\n",
        "\n",
        "print(\"País com maior dívida interna em 2014: \\n\")\n",
        "print(db_self_debt[['investor', 'portfolio_share','issuer_nationality_name']])"
      ]
    },
    {
      "cell_type": "markdown",
      "metadata": {
        "id": "39oc8SGOpCiQ"
      },
      "source": [
        "Para responder os exercícios a seguir, utilize os dados fornecidos na planilha \"236_data.xlsx\" (na aba \"Master\")"
      ]
    },
    {
      "cell_type": "code",
      "execution_count": null,
      "metadata": {
        "id": "kxn_8_IEpCiQ",
        "colab": {
          "base_uri": "https://localhost:8080/"
        },
        "outputId": "efb9d506-d651-4ae4-a942-7104c8a63981"
      },
      "outputs": [
        {
          "output_type": "execute_result",
          "data": {
            "text/plain": [
              "array(['Country', 'Afghanistan', 'Albania', 'Algeria', 'Andorra',\n",
              "       'Angola', 'Anguilla', 'Antigua and Barbuda', 'Argentina',\n",
              "       'Armenia', 'Aruba', 'Australia', 'Austria', 'Azerbaijan',\n",
              "       'Bahamas', 'Bahrain', 'Bangladesh', 'Barbados', 'Belarus',\n",
              "       'Belgium', 'Belize', 'Benin', 'Bermuda', 'Bhutan', 'Bolivia',\n",
              "       'Bosnia and Herzegovina', 'Botswana', 'Brazil',\n",
              "       'Brunei Darussalam', 'Bulgaria', 'Burkina Faso', 'Burundi',\n",
              "       'Cabo Verde', 'Cambodia', 'Cameroon', 'Canada',\n",
              "       'Central African Republic', 'Chad', 'Chile', 'China', 'Colombia',\n",
              "       'Comoros', 'Congo, Democratic Republic of', 'Congo, Republic of',\n",
              "       'Costa Rica', \"Cote d'Ivoire\", 'Croatia', 'Curacao & St. Maarten',\n",
              "       'Cyprus', 'Czech Republic', 'Denmark', 'Djibouti', 'Dominica',\n",
              "       'Dominican Republic', 'Ecuador', 'Egypt', 'El Salvador',\n",
              "       'Equatorial Guinea', 'Eritrea', 'Estonia', 'Ethiopia', 'Fiji',\n",
              "       'Finland', 'France', 'Gabon', 'Gambia', 'Georgia', 'Germany',\n",
              "       'Ghana', 'Greece', 'Grenada', 'Guatemala', 'Guinea',\n",
              "       'Guinea-Bissau', 'Guyana', 'Haiti', 'Honduras', 'Hong Kong',\n",
              "       'Hungary', 'Iceland', 'India', 'Indonesia', 'Iran', 'Iraq',\n",
              "       'Ireland', 'Israel', 'Italy', 'Jamaica', 'Japan', 'Jordan',\n",
              "       'Kazakhstan', 'Kenya', 'Kiribati', 'Korea, South', 'Kuwait',\n",
              "       'Kyrgyzstan', 'Laos', 'Latvia', 'Lebanon', 'Lesotho', 'Liberia',\n",
              "       'Libya', 'Liechtenstein', 'Lithuania', 'Luxembourg', 'Macao',\n",
              "       'Macedonia, FYR', 'Madagascar', 'Malawi', 'Malaysia', 'Maldives',\n",
              "       'Mali', 'Malta', 'Marshall Islands', 'Mauritania', 'Mauritius',\n",
              "       'Mexico', 'Micronesia, Federated States of', 'Moldova', 'Monaco',\n",
              "       'Mongolia', 'Montserrat', 'Morocco', 'Mozambique', 'Myanmar',\n",
              "       'Namibia', 'Nauru', 'Nepal', 'Netherlands', 'New Zealand',\n",
              "       'Nicaragua', 'Niger', 'Nigeria', 'Norway', 'Oman', 'Pakistan',\n",
              "       'Palau', 'Panama', 'Papua New Guinea', 'Paraguay', 'Peru',\n",
              "       'Philippines', 'Poland', 'Portugal', 'Qatar', 'Romania', 'Russia',\n",
              "       'Rwanda', 'Samoa', 'San Marino', 'Sao Tome and Principe',\n",
              "       'Saudi Arabia', 'Senegal', 'Serbia', 'Seychelles', 'Sierra Leone',\n",
              "       'Singapore', 'Slovak Republic', 'Slovenia', 'Solomon Islands',\n",
              "       'Somalia', 'South Africa', 'Spain', 'Sri Lanka',\n",
              "       'St. Kitts and Nevis', 'St. Lucia',\n",
              "       'St. Vincent and the Grenadines', 'Sudan', 'Suriname', 'Swaziland',\n",
              "       'Sweden', 'Switzerland', 'Syria', 'Tajikistan', 'Tanzania',\n",
              "       'Thailand', 'Togo', 'Tonga', 'Trinidad and Tobago', 'Tunisia',\n",
              "       'Turkey', 'Turkmenistan', 'Tuvalu', 'Uganda', 'Ukraine',\n",
              "       'United Arab Emirates', 'United Kingdom',\n",
              "       'United States of America', 'Uruguay', 'Uzbekistan', 'Vanuatu',\n",
              "       'Venezuela', 'Vietnam', 'Yemen', 'Zambia', 'Zimbabwe',\n",
              "       'Czechoslovakia', 'USSR', 'Yugoslavia', 'Unnamed: 199',\n",
              "       'Unnamed: 200', 'Unnamed: 201'], dtype=object)"
            ]
          },
          "metadata": {},
          "execution_count": 82
        }
      ],
      "source": [
        "currencies = pd.read_excel(\"/content/236_data.xlsx\", sheet_name= \"Master\", skiprows = 7, header = 0)\n",
        "\n",
        "currencies.columns.values"
      ]
    },
    {
      "cell_type": "markdown",
      "metadata": {
        "id": "1_tUNnsJpCiR"
      },
      "source": [
        "3) Qual o ano com maior frequência de \"Freely_falling\" como moeda de referência?"
      ]
    },
    {
      "cell_type": "code",
      "execution_count": null,
      "metadata": {
        "colab": {
          "base_uri": "https://localhost:8080/"
        },
        "id": "NsiqScTYpCiS",
        "outputId": "07769015-f9d0-4e35-a510-55fb186f7360"
      },
      "outputs": [
        {
          "output_type": "execute_result",
          "data": {
            "text/plain": [
              "1993"
            ]
          },
          "metadata": {},
          "execution_count": 110
        }
      ],
      "source": [
        "year_col = currencies.iloc[:,0]\n",
        "count_ff = currencies.apply(pd.Series.value_counts, axis=1)[['Freely_falling']].fillna(0)\n",
        "final_count_ff = pd.concat([year_col, count_ff], axis=1).sort_values(by = 'Freely_falling', ascending = False)\n",
        "final_count_ff.iloc[0,0]"
      ]
    },
    {
      "cell_type": "markdown",
      "metadata": {
        "id": "VlnR6sF2pCiS"
      },
      "source": [
        "4) Com a queda da União Soviética, além da separação política, foi possível observar uma movimentação na moeda utilizada como âncora. Retorne um dataframe que contenha o ano em que cada país da lista abaixo deixou de utilizar o RUB (ruble)"
      ]
    },
    {
      "cell_type": "code",
      "execution_count": 130,
      "metadata": {
        "colab": {
          "base_uri": "https://localhost:8080/"
        },
        "id": "kuhlbeAwpCiS",
        "outputId": "5a67ce2a-3e55-4b34-a1ed-0e43841ec400"
      },
      "outputs": [
        {
          "output_type": "stream",
          "name": "stdout",
          "text": [
            "País: Ukraine\n",
            "1990\n",
            "País: Georgia\n",
            "1991\n",
            "País: Uzbekistan\n",
            "1991\n",
            "País: Armenia\n",
            "1991\n",
            "País: Azerbaijan\n",
            "1992\n",
            "País: Kazakhstan\n",
            "1990\n",
            "País: Kyrgyzstan\n",
            "1991\n",
            "País: Moldova\n",
            "1990\n",
            "País: Turkmenistan\n",
            "1992\n",
            "País: Tajikistan\n",
            "1991\n",
            "País: Latvia\n",
            "1990\n",
            "País: Lithuania\n",
            "1990\n",
            "País: Estonia\n",
            "1990\n"
          ]
        }
      ],
      "source": [
        "#Para ajudar, aqui está uma lista com os nomes dos países (ex-Russia) que deve ser utilizada p este exercício\n",
        "urss_list = ['Ukraine', 'Georgia', 'Uzbekistan', 'Armenia', 'Azerbaijan', 'Kazakhstan', 'Kyrgyzstan', 'Moldova',\n",
        "'Turkmenistan', 'Tajikistan', 'Latvia', 'Lithuania', 'Estonia']\n",
        "\n",
        "for country in urss_list[:]:\n",
        "    if country in currencies.columns:\n",
        "        country_rub_years = currencies[currencies[country] == 'RUB']['Country']\n",
        "        last_year = country_rub_years.iloc[-1]\n",
        "        print(f'País: {country}')\n",
        "        if not country_rub_years.empty:\n",
        "            print(last_year)"
      ]
    },
    {
      "cell_type": "code",
      "execution_count": 131,
      "metadata": {
        "id": "fv9MTJsLpCiS"
      },
      "outputs": [],
      "source": [
        "selected_df = currencies[currencies.columns.intersection(urss_list)]\n",
        "selected_df_years = pd.concat([year_col, selected_df], axis=1).set_index(\"Country\")\n",
        "\n",
        "years = []\n",
        "for country in urss_list:\n",
        "    selected_df_years[country] = selected_df_years[country].ne(selected_df_years[country].shift().bfill()).astype(int)\n",
        "    year_y = selected_df_years[country].idxmax()\n",
        "    years.append(year_y)\n",
        "\n",
        "final_df = pd.DataFrame({\"Country\":urss_list, \"Years\" : years})\n",
        "\n"
      ]
    },
    {
      "cell_type": "markdown",
      "metadata": {
        "id": "RmIghqgHpCiS"
      },
      "source": [
        "5) Retorne a década em que houve maior troca de \"Currency Anchors\" no mundo"
      ]
    },
    {
      "cell_type": "code",
      "execution_count": 132,
      "metadata": {
        "colab": {
          "base_uri": "https://localhost:8080/"
        },
        "id": "V1EVVMKMpCiT",
        "outputId": "fafb3ca6-d290-452e-ca7d-85908d669dbd"
      },
      "outputs": [
        {
          "output_type": "stream",
          "name": "stderr",
          "text": [
            "<ipython-input-132-d06898cdff67>:7: PerformanceWarning: DataFrame is highly fragmented.  This is usually the result of calling `frame.insert` many times, which has poor performance.  Consider joining all columns at once using pd.concat(axis=1) instead. To get a de-fragmented frame, use `newframe = frame.copy()`\n",
            "  currencies_indexed['change'] = currencies_indexed.sum(axis=1)\n"
          ]
        },
        {
          "output_type": "execute_result",
          "data": {
            "text/plain": [
              "1999"
            ]
          },
          "metadata": {},
          "execution_count": 132
        }
      ],
      "source": [
        "currencies_indexed = currencies.set_index('Country')\n",
        "countries_list = list(currencies.columns)[1:199]\n",
        "\n",
        "for country in countries_list:\n",
        "    currencies_indexed[country] = currencies_indexed[country].ne(currencies_indexed[country].shift().bfill()).astype(int)\n",
        "\n",
        "currencies_indexed['change'] = currencies_indexed.sum(axis=1)\n",
        "year_x = currencies_indexed['change'].sort_values(ascending=False).reset_index().iloc[0,0]\n",
        "year_x"
      ]
    }
  ],
  "metadata": {
    "colab": {
      "provenance": [],
      "include_colab_link": true
    },
    "kernelspec": {
      "display_name": "Python 3.7.6 ('base')",
      "language": "python",
      "name": "python3"
    },
    "language_info": {
      "codemirror_mode": {
        "name": "ipython",
        "version": 3
      },
      "file_extension": ".py",
      "mimetype": "text/x-python",
      "name": "python",
      "nbconvert_exporter": "python",
      "pygments_lexer": "ipython3",
      "version": "3.7.6"
    },
    "vscode": {
      "interpreter": {
        "hash": "e3eb86e430a5509920f3453e77c50f3391ea3767bdb44dcc3e78c42ca90283f8"
      }
    }
  },
  "nbformat": 4,
  "nbformat_minor": 0
}